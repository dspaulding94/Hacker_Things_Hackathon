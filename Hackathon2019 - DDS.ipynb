{
 "cells": [
  {
   "cell_type": "markdown",
   "metadata": {},
   "source": [
    "# Imports "
   ]
  },
  {
   "cell_type": "code",
   "execution_count": 1,
   "metadata": {},
   "outputs": [],
   "source": [
    "from shapely.geometry import Point\n",
    "import pandas as pd\n",
    "import geopandas as gpd\n",
    "import matplotlib.pyplot as plt\n",
    "import datetime\n",
    "import pickle\n",
    "import calendar\n",
    "import seaborn as sns\n",
    "import numpy as np\n",
    "\n"
   ]
  },
  {
   "cell_type": "code",
   "execution_count": 11,
   "metadata": {},
   "outputs": [],
   "source": [
    "file = pd.read_csv('./Data/donations.csv.gz')\n",
    "file.to_csv('./Data/DonationsInExcel.csv')"
   ]
  },
  {
   "cell_type": "markdown",
   "metadata": {},
   "source": [
    "# Key Metrics"
   ]
  },
  {
   "cell_type": "markdown",
   "metadata": {},
   "source": [
    "https://kindful.com/blog/5-donor-metrics-to-track-in-your-donor-lifecycle/\n",
    "\n",
    "1. New contact and donor acquisition by source\n",
    "2. New donor acquisition by campaign\n",
    "3. Days until first gift\n",
    "4. Rolling retention rate\n",
    "5. Number of upgraded donors\n",
    "\n",
    "https://support.kindful.com/hc/en-us/articles/360002746374-About-the-Metric-Retention-Rate\n",
    "\n",
    "Donor retention rate:\n",
    "(Count of donors with 1+ gift(s)in both Period 1 and Period 2) / (Count of donors with 1+ gift(s) in Period 1)\n",
    "\n",
    "\n"
   ]
  },
  {
   "cell_type": "markdown",
   "metadata": {},
   "source": []
  },
  {
   "cell_type": "markdown",
   "metadata": {},
   "source": []
  },
  {
   "cell_type": "code",
   "execution_count": null,
   "metadata": {},
   "outputs": [],
   "source": []
  },
  {
   "cell_type": "code",
   "execution_count": null,
   "metadata": {},
   "outputs": [],
   "source": []
  },
  {
   "cell_type": "markdown",
   "metadata": {},
   "source": [
    "# Basic File Info"
   ]
  },
  {
   "cell_type": "code",
   "execution_count": 8,
   "metadata": {},
   "outputs": [
    {
     "data": {
      "text/html": [
       "<div>\n",
       "<style scoped>\n",
       "    .dataframe tbody tr th:only-of-type {\n",
       "        vertical-align: middle;\n",
       "    }\n",
       "\n",
       "    .dataframe tbody tr th {\n",
       "        vertical-align: top;\n",
       "    }\n",
       "\n",
       "    .dataframe thead th {\n",
       "        text-align: right;\n",
       "    }\n",
       "</style>\n",
       "<table border=\"1\" class=\"dataframe\">\n",
       "  <thead>\n",
       "    <tr style=\"text-align: right;\">\n",
       "      <th></th>\n",
       "      <th>id</th>\n",
       "      <th>created_at</th>\n",
       "      <th>amount</th>\n",
       "    </tr>\n",
       "  </thead>\n",
       "  <tbody>\n",
       "    <tr>\n",
       "      <th>0</th>\n",
       "      <td>00000ce845c00cbf0686c992fc369df4</td>\n",
       "      <td>2013-12-17 21:47:14</td>\n",
       "      <td>50.00</td>\n",
       "    </tr>\n",
       "    <tr>\n",
       "      <th>1</th>\n",
       "      <td>00002783bc5d108510f3f9666c8b1edd</td>\n",
       "      <td>2016-02-02 18:34:27</td>\n",
       "      <td>99.00</td>\n",
       "    </tr>\n",
       "    <tr>\n",
       "      <th>2</th>\n",
       "      <td>00002d44003ed46b066607c5455a999a</td>\n",
       "      <td>2016-10-25 20:15:11</td>\n",
       "      <td>10.00</td>\n",
       "    </tr>\n",
       "    <tr>\n",
       "      <th>3</th>\n",
       "      <td>00002d44003ed46b066607c5455a999a</td>\n",
       "      <td>2017-01-16 01:11:20</td>\n",
       "      <td>15.51</td>\n",
       "    </tr>\n",
       "    <tr>\n",
       "      <th>4</th>\n",
       "      <td>00002d44003ed46b066607c5455a999a</td>\n",
       "      <td>2017-01-16 14:20:10</td>\n",
       "      <td>100.00</td>\n",
       "    </tr>\n",
       "  </tbody>\n",
       "</table>\n",
       "</div>"
      ],
      "text/plain": [
       "                                 id           created_at  amount\n",
       "0  00000ce845c00cbf0686c992fc369df4  2013-12-17 21:47:14   50.00\n",
       "1  00002783bc5d108510f3f9666c8b1edd  2016-02-02 18:34:27   99.00\n",
       "2  00002d44003ed46b066607c5455a999a  2016-10-25 20:15:11   10.00\n",
       "3  00002d44003ed46b066607c5455a999a  2017-01-16 01:11:20   15.51\n",
       "4  00002d44003ed46b066607c5455a999a  2017-01-16 14:20:10  100.00"
      ]
     },
     "execution_count": 8,
     "metadata": {},
     "output_type": "execute_result"
    }
   ],
   "source": [
    "file.head()"
   ]
  },
  {
   "cell_type": "code",
   "execution_count": 9,
   "metadata": {},
   "outputs": [
    {
     "data": {
      "text/html": [
       "<div>\n",
       "<style scoped>\n",
       "    .dataframe tbody tr th:only-of-type {\n",
       "        vertical-align: middle;\n",
       "    }\n",
       "\n",
       "    .dataframe tbody tr th {\n",
       "        vertical-align: top;\n",
       "    }\n",
       "\n",
       "    .dataframe thead th {\n",
       "        text-align: right;\n",
       "    }\n",
       "</style>\n",
       "<table border=\"1\" class=\"dataframe\">\n",
       "  <thead>\n",
       "    <tr style=\"text-align: right;\">\n",
       "      <th></th>\n",
       "      <th>id</th>\n",
       "      <th>created_at</th>\n",
       "      <th>amount</th>\n",
       "    </tr>\n",
       "  </thead>\n",
       "  <tbody>\n",
       "    <tr>\n",
       "      <th>4687879</th>\n",
       "      <td>ffffb91addfb35f11b30c2943f349654</td>\n",
       "      <td>2017-12-30 21:17:47</td>\n",
       "      <td>10.0</td>\n",
       "    </tr>\n",
       "    <tr>\n",
       "      <th>4687880</th>\n",
       "      <td>ffffc2e1225ac40a3ace9b8562115c9b</td>\n",
       "      <td>2016-08-29 19:09:07</td>\n",
       "      <td>75.0</td>\n",
       "    </tr>\n",
       "    <tr>\n",
       "      <th>4687881</th>\n",
       "      <td>ffffd8f0fbfa10b99efe90a5ee13c5df</td>\n",
       "      <td>2017-05-22 12:24:36</td>\n",
       "      <td>50.0</td>\n",
       "    </tr>\n",
       "    <tr>\n",
       "      <th>4687882</th>\n",
       "      <td>ffffdb40226605870f62422b2b420aab</td>\n",
       "      <td>2017-03-29 12:34:49</td>\n",
       "      <td>100.0</td>\n",
       "    </tr>\n",
       "    <tr>\n",
       "      <th>4687883</th>\n",
       "      <td>fffffcc42d1bf7ab742a4fa2d820f9f0</td>\n",
       "      <td>2017-03-07 06:29:16</td>\n",
       "      <td>100.0</td>\n",
       "    </tr>\n",
       "  </tbody>\n",
       "</table>\n",
       "</div>"
      ],
      "text/plain": [
       "                                       id           created_at  amount\n",
       "4687879  ffffb91addfb35f11b30c2943f349654  2017-12-30 21:17:47    10.0\n",
       "4687880  ffffc2e1225ac40a3ace9b8562115c9b  2016-08-29 19:09:07    75.0\n",
       "4687881  ffffd8f0fbfa10b99efe90a5ee13c5df  2017-05-22 12:24:36    50.0\n",
       "4687882  ffffdb40226605870f62422b2b420aab  2017-03-29 12:34:49   100.0\n",
       "4687883  fffffcc42d1bf7ab742a4fa2d820f9f0  2017-03-07 06:29:16   100.0"
      ]
     },
     "execution_count": 9,
     "metadata": {},
     "output_type": "execute_result"
    }
   ],
   "source": [
    "file.tail()"
   ]
  },
  {
   "cell_type": "code",
   "execution_count": 10,
   "metadata": {},
   "outputs": [
    {
     "name": "stdout",
     "output_type": "stream",
     "text": [
      "<class 'pandas.core.frame.DataFrame'>\n",
      "RangeIndex: 4687884 entries, 0 to 4687883\n",
      "Data columns (total 3 columns):\n",
      "id            object\n",
      "created_at    object\n",
      "amount        float64\n",
      "dtypes: float64(1), object(2)\n",
      "memory usage: 107.3+ MB\n"
     ]
    }
   ],
   "source": [
    "file.info()"
   ]
  },
  {
   "cell_type": "code",
   "execution_count": 14,
   "metadata": {},
   "outputs": [
    {
     "data": {
      "text/plain": [
       "39df9399f5384334a42905bcf0acdcbf    18035\n",
       "237db43817f34988f9d543ca518be4ee    14565\n",
       "a0e1d358aa17745ff3d3f4e4909356f3    10515\n",
       "6f74ffb17cbb2b616b1eef06bd4acd0c     9029\n",
       "a1929a1172ad0b3d14bc84f54018c563     6427\n",
       "19f24640d9da49f6f8b4c9938c049591     6153\n",
       "24ecca49933c30a0beb83090591720c0     5688\n",
       "6a35a7514005c04f8520e5d8f7657d91     5494\n",
       "b51c76411b51751f45527c63c69ead9e     5141\n",
       "74f7db06bcd9557d1e992dc029db69cc     5111\n",
       "f37b9ff133242d08658ca2b17b3ab84c     4710\n",
       "0e345dcdef0d2a36c9bd17bf1ac3e10a     4627\n",
       "a7fa881a86cb4c7e70815b38168d1702     4410\n",
       "4416745560343f14a74dedcda4ec03b0     4257\n",
       "0cd96e83a645971f6deb4559262b7688     4225\n",
       "75e09805b663bbe4b80b40034c192b4a     4109\n",
       "86d57a6264726b2a94c5b9663f46330c     4052\n",
       "a299db9679f7746a805fbc300362191d     4033\n",
       "406518edf1c30d599de90e2055a697fc     3859\n",
       "6dd7995a998f79a8c65a0d400c9a5350     3798\n",
       "c376c98b0cdb746cf025bb21ee810376     3677\n",
       "d24347fdee199ae9395ad44484e1caf7     3473\n",
       "e7692ca3a0fe35653c173de80adfc880     3422\n",
       "d006be7223c048ae8b2bdedd7dd2b4db     3330\n",
       "66c30e1da1934d7cfe810ba79f6e04c1     3260\n",
       "4942150e351df37d02b1b1008032d795     3228\n",
       "eecc14ded80a38f692a590fe80c7b08f     3103\n",
       "a7dbf5caa4e885e277e7fb46fc3b795e     2997\n",
       "28601b5d4270c7f42a43bb5a44753d8e     2961\n",
       "9d7051e2611cebdb758f1c7bd09360ac     2932\n",
       "                                    ...  \n",
       "55622a2c6a407161fab26c9d5f5eb318        1\n",
       "63caa8a5264ad9ba7acce51e75e78ceb        1\n",
       "647885ee15578f10466ee7047cb22ff0        1\n",
       "6c16b379c70fdd7d1b14f7ff6ae78099        1\n",
       "bec0abbce5fb0ddff6ce950a53a9bea5        1\n",
       "e12dee405c728b3fe6077160b06faa4d        1\n",
       "db39529c664a93675fa1113dcad4608e        1\n",
       "7af0f575593e2ae6e295ede660f698a4        1\n",
       "d94d0fbe4072036722df31ecdb277795        1\n",
       "445be3f1235313d28e26d3eee80b31bb        1\n",
       "e678fe7159c1d46497bef0a9fab40128        1\n",
       "f6910b07221d847d78a0f24fc9418b69        1\n",
       "612b341f0d4036cb6b85821f025152dc        1\n",
       "f812082af433ef453a17865a37a513d4        1\n",
       "5e46d57d8b36552b4882605433e592d0        1\n",
       "2f92818ca7c6f466d5a2e99ec94ada41        1\n",
       "c68ab95fb5ff809d78acead113f2f0b1        1\n",
       "4901096374b05b172bd9fdb57ad096eb        1\n",
       "fbf810e423132f7aaecaae74fdf2e041        1\n",
       "86dffca803f9e43d3ecaa7818ba2a6c9        1\n",
       "dfdb5b7c7fecdfa2d92fa65e3d97c889        1\n",
       "da780f99deb27dd85cca9d15ec87aaed        1\n",
       "32c949eab0d07c0b68ed2d8db714b35c        1\n",
       "d122a1f2c6c36dfa902b179b59324fce        1\n",
       "becae018df49882a8431036f99154efd        1\n",
       "3699be24b1dfef74ee808db421a0b26c        1\n",
       "123dc097e0d98786ad3ce1e60a844222        1\n",
       "930da82540ae20453f7cf955154781bd        1\n",
       "7c910a3c7019fecd7b2c0876d3938f21        1\n",
       "5ff8b736a285a6fd9ca1978be1dd07b0        1\n",
       "Name: id, Length: 2024554, dtype: int64"
      ]
     },
     "execution_count": 14,
     "metadata": {},
     "output_type": "execute_result"
    }
   ],
   "source": [
    "file['id'].value_counts()"
   ]
  },
  {
   "cell_type": "markdown",
   "metadata": {},
   "source": [
    "# Converting to Datetime"
   ]
  },
  {
   "cell_type": "code",
   "execution_count": 24,
   "metadata": {},
   "outputs": [
    {
     "name": "stdout",
     "output_type": "stream",
     "text": [
      "<class 'pandas.core.frame.DataFrame'>\n",
      "RangeIndex: 4687884 entries, 0 to 4687883\n",
      "Data columns (total 3 columns):\n",
      "id            object\n",
      "created_at    datetime64[ns]\n",
      "amount        float64\n",
      "dtypes: datetime64[ns](1), float64(1), object(1)\n",
      "memory usage: 107.3+ MB\n"
     ]
    }
   ],
   "source": [
    "file['created_at']=pd.to_datetime(file.created_at)\n",
    "file.info()"
   ]
  },
  {
   "cell_type": "markdown",
   "metadata": {},
   "source": [
    "# Most Frequent Donor"
   ]
  },
  {
   "cell_type": "markdown",
   "metadata": {},
   "source": [
    "#Notes:\n",
    "\n",
    "- No data in 2012-2015, begins 2016"
   ]
  },
  {
   "cell_type": "code",
   "execution_count": 26,
   "metadata": {},
   "outputs": [
    {
     "data": {
      "text/html": [
       "<div>\n",
       "<style scoped>\n",
       "    .dataframe tbody tr th:only-of-type {\n",
       "        vertical-align: middle;\n",
       "    }\n",
       "\n",
       "    .dataframe tbody tr th {\n",
       "        vertical-align: top;\n",
       "    }\n",
       "\n",
       "    .dataframe thead th {\n",
       "        text-align: right;\n",
       "    }\n",
       "</style>\n",
       "<table border=\"1\" class=\"dataframe\">\n",
       "  <thead>\n",
       "    <tr style=\"text-align: right;\">\n",
       "      <th></th>\n",
       "      <th>id</th>\n",
       "      <th>created_at</th>\n",
       "      <th>amount</th>\n",
       "    </tr>\n",
       "  </thead>\n",
       "  <tbody>\n",
       "    <tr>\n",
       "      <th>1067831</th>\n",
       "      <td>39df9399f5384334a42905bcf0acdcbf</td>\n",
       "      <td>2016-03-09 11:00:09</td>\n",
       "      <td>1.99</td>\n",
       "    </tr>\n",
       "    <tr>\n",
       "      <th>1067832</th>\n",
       "      <td>39df9399f5384334a42905bcf0acdcbf</td>\n",
       "      <td>2016-03-09 11:01:42</td>\n",
       "      <td>1.47</td>\n",
       "    </tr>\n",
       "    <tr>\n",
       "      <th>1067833</th>\n",
       "      <td>39df9399f5384334a42905bcf0acdcbf</td>\n",
       "      <td>2016-03-09 11:02:15</td>\n",
       "      <td>1.06</td>\n",
       "    </tr>\n",
       "    <tr>\n",
       "      <th>1067834</th>\n",
       "      <td>39df9399f5384334a42905bcf0acdcbf</td>\n",
       "      <td>2016-03-09 11:03:11</td>\n",
       "      <td>1.00</td>\n",
       "    </tr>\n",
       "    <tr>\n",
       "      <th>1067835</th>\n",
       "      <td>39df9399f5384334a42905bcf0acdcbf</td>\n",
       "      <td>2016-03-09 17:53:14</td>\n",
       "      <td>1.00</td>\n",
       "    </tr>\n",
       "  </tbody>\n",
       "</table>\n",
       "</div>"
      ],
      "text/plain": [
       "                                       id          created_at  amount\n",
       "1067831  39df9399f5384334a42905bcf0acdcbf 2016-03-09 11:00:09    1.99\n",
       "1067832  39df9399f5384334a42905bcf0acdcbf 2016-03-09 11:01:42    1.47\n",
       "1067833  39df9399f5384334a42905bcf0acdcbf 2016-03-09 11:02:15    1.06\n",
       "1067834  39df9399f5384334a42905bcf0acdcbf 2016-03-09 11:03:11    1.00\n",
       "1067835  39df9399f5384334a42905bcf0acdcbf 2016-03-09 17:53:14    1.00"
      ]
     },
     "execution_count": 26,
     "metadata": {},
     "output_type": "execute_result"
    }
   ],
   "source": [
    "mfd_file = file[file.id == '39df9399f5384334a42905bcf0acdcbf']\n",
    "mfd_file.head()"
   ]
  },
  {
   "cell_type": "code",
   "execution_count": 28,
   "metadata": {},
   "outputs": [
    {
     "name": "stderr",
     "output_type": "stream",
     "text": [
      "C:\\ProgramData\\Anaconda3\\lib\\site-packages\\ipykernel_launcher.py:3: FutureWarning: Comparing Series of datetimes with 'datetime.date'.  Currently, the\n",
      "'datetime.date' is coerced to a datetime. In the future pandas will\n",
      "not coerce, and a TypeError will be raised. To retain the current\n",
      "behavior, convert the 'datetime.date' to a datetime with\n",
      "'pd.Timestamp'.\n",
      "  This is separate from the ipykernel package so we can avoid doing imports until\n"
     ]
    },
    {
     "data": {
      "text/html": [
       "<div>\n",
       "<style scoped>\n",
       "    .dataframe tbody tr th:only-of-type {\n",
       "        vertical-align: middle;\n",
       "    }\n",
       "\n",
       "    .dataframe tbody tr th {\n",
       "        vertical-align: top;\n",
       "    }\n",
       "\n",
       "    .dataframe thead th {\n",
       "        text-align: right;\n",
       "    }\n",
       "</style>\n",
       "<table border=\"1\" class=\"dataframe\">\n",
       "  <thead>\n",
       "    <tr style=\"text-align: right;\">\n",
       "      <th></th>\n",
       "      <th>id</th>\n",
       "      <th>created_at</th>\n",
       "      <th>amount</th>\n",
       "    </tr>\n",
       "  </thead>\n",
       "  <tbody>\n",
       "    <tr>\n",
       "      <th>1067831</th>\n",
       "      <td>39df9399f5384334a42905bcf0acdcbf</td>\n",
       "      <td>2016-03-09 11:00:09</td>\n",
       "      <td>1.99</td>\n",
       "    </tr>\n",
       "    <tr>\n",
       "      <th>1067832</th>\n",
       "      <td>39df9399f5384334a42905bcf0acdcbf</td>\n",
       "      <td>2016-03-09 11:01:42</td>\n",
       "      <td>1.47</td>\n",
       "    </tr>\n",
       "    <tr>\n",
       "      <th>1067833</th>\n",
       "      <td>39df9399f5384334a42905bcf0acdcbf</td>\n",
       "      <td>2016-03-09 11:02:15</td>\n",
       "      <td>1.06</td>\n",
       "    </tr>\n",
       "    <tr>\n",
       "      <th>1067834</th>\n",
       "      <td>39df9399f5384334a42905bcf0acdcbf</td>\n",
       "      <td>2016-03-09 11:03:11</td>\n",
       "      <td>1.00</td>\n",
       "    </tr>\n",
       "    <tr>\n",
       "      <th>1067835</th>\n",
       "      <td>39df9399f5384334a42905bcf0acdcbf</td>\n",
       "      <td>2016-03-09 17:53:14</td>\n",
       "      <td>1.00</td>\n",
       "    </tr>\n",
       "  </tbody>\n",
       "</table>\n",
       "</div>"
      ],
      "text/plain": [
       "                                       id          created_at  amount\n",
       "1067831  39df9399f5384334a42905bcf0acdcbf 2016-03-09 11:00:09    1.99\n",
       "1067832  39df9399f5384334a42905bcf0acdcbf 2016-03-09 11:01:42    1.47\n",
       "1067833  39df9399f5384334a42905bcf0acdcbf 2016-03-09 11:02:15    1.06\n",
       "1067834  39df9399f5384334a42905bcf0acdcbf 2016-03-09 11:03:11    1.00\n",
       "1067835  39df9399f5384334a42905bcf0acdcbf 2016-03-09 17:53:14    1.00"
      ]
     },
     "execution_count": 28,
     "metadata": {},
     "output_type": "execute_result"
    }
   ],
   "source": [
    "#2016 year\n",
    "\n",
    "mfd_2016 =  mfd_file[(mfd_file['created_at']>datetime.date(2016,1,1)) & (mfd_file['created_at']<datetime.date(2016,12,31))]\n",
    "mfd_2016.head()\n"
   ]
  },
  {
   "cell_type": "code",
   "execution_count": 30,
   "metadata": {},
   "outputs": [
    {
     "data": {
      "text/plain": [
       "(3040, 3)"
      ]
     },
     "execution_count": 30,
     "metadata": {},
     "output_type": "execute_result"
    }
   ],
   "source": [
    "mfd_2016.shape"
   ]
  },
  {
   "cell_type": "code",
   "execution_count": 38,
   "metadata": {},
   "outputs": [
    {
     "name": "stderr",
     "output_type": "stream",
     "text": [
      "C:\\ProgramData\\Anaconda3\\lib\\site-packages\\ipykernel_launcher.py:1: FutureWarning: Comparing Series of datetimes with 'datetime.date'.  Currently, the\n",
      "'datetime.date' is coerced to a datetime. In the future pandas will\n",
      "not coerce, and a TypeError will be raised. To retain the current\n",
      "behavior, convert the 'datetime.date' to a datetime with\n",
      "'pd.Timestamp'.\n",
      "  \"\"\"Entry point for launching an IPython kernel.\n"
     ]
    },
    {
     "data": {
      "text/html": [
       "<div>\n",
       "<style scoped>\n",
       "    .dataframe tbody tr th:only-of-type {\n",
       "        vertical-align: middle;\n",
       "    }\n",
       "\n",
       "    .dataframe tbody tr th {\n",
       "        vertical-align: top;\n",
       "    }\n",
       "\n",
       "    .dataframe thead th {\n",
       "        text-align: right;\n",
       "    }\n",
       "</style>\n",
       "<table border=\"1\" class=\"dataframe\">\n",
       "  <thead>\n",
       "    <tr style=\"text-align: right;\">\n",
       "      <th></th>\n",
       "      <th>id</th>\n",
       "      <th>created_at</th>\n",
       "      <th>amount</th>\n",
       "    </tr>\n",
       "  </thead>\n",
       "  <tbody>\n",
       "    <tr>\n",
       "      <th>1067831</th>\n",
       "      <td>39df9399f5384334a42905bcf0acdcbf</td>\n",
       "      <td>2016-03-09 11:00:09</td>\n",
       "      <td>1.99</td>\n",
       "    </tr>\n",
       "    <tr>\n",
       "      <th>1067832</th>\n",
       "      <td>39df9399f5384334a42905bcf0acdcbf</td>\n",
       "      <td>2016-03-09 11:01:42</td>\n",
       "      <td>1.47</td>\n",
       "    </tr>\n",
       "    <tr>\n",
       "      <th>1067833</th>\n",
       "      <td>39df9399f5384334a42905bcf0acdcbf</td>\n",
       "      <td>2016-03-09 11:02:15</td>\n",
       "      <td>1.06</td>\n",
       "    </tr>\n",
       "    <tr>\n",
       "      <th>1067834</th>\n",
       "      <td>39df9399f5384334a42905bcf0acdcbf</td>\n",
       "      <td>2016-03-09 11:03:11</td>\n",
       "      <td>1.00</td>\n",
       "    </tr>\n",
       "    <tr>\n",
       "      <th>1067835</th>\n",
       "      <td>39df9399f5384334a42905bcf0acdcbf</td>\n",
       "      <td>2016-03-09 17:53:14</td>\n",
       "      <td>1.00</td>\n",
       "    </tr>\n",
       "  </tbody>\n",
       "</table>\n",
       "</div>"
      ],
      "text/plain": [
       "                                       id          created_at  amount\n",
       "1067831  39df9399f5384334a42905bcf0acdcbf 2016-03-09 11:00:09    1.99\n",
       "1067832  39df9399f5384334a42905bcf0acdcbf 2016-03-09 11:01:42    1.47\n",
       "1067833  39df9399f5384334a42905bcf0acdcbf 2016-03-09 11:02:15    1.06\n",
       "1067834  39df9399f5384334a42905bcf0acdcbf 2016-03-09 11:03:11    1.00\n",
       "1067835  39df9399f5384334a42905bcf0acdcbf 2016-03-09 17:53:14    1.00"
      ]
     },
     "execution_count": 38,
     "metadata": {},
     "output_type": "execute_result"
    }
   ],
   "source": [
    "mfd_freq =  mfd_file[(rr_file['created_at']>datetime.date(2016,1,1)) & (rr_file['created_at']<datetime.date(2016,12,31))]\n",
    "mfd_freq\n"
   ]
  },
  {
   "cell_type": "code",
   "execution_count": 43,
   "metadata": {},
   "outputs": [
    {
     "name": "stderr",
     "output_type": "stream",
     "text": [
      "C:\\ProgramData\\Anaconda3\\lib\\site-packages\\ipykernel_launcher.py:1: FutureWarning: Comparing Series of datetimes with 'datetime.date'.  Currently, the\n",
      "'datetime.date' is coerced to a datetime. In the future pandas will\n",
      "not coerce, and a TypeError will be raised. To retain the current\n",
      "behavior, convert the 'datetime.date' to a datetime with\n",
      "'pd.Timestamp'.\n",
      "  \"\"\"Entry point for launching an IPython kernel.\n"
     ]
    },
    {
     "data": {
      "text/html": [
       "<div>\n",
       "<style scoped>\n",
       "    .dataframe tbody tr th:only-of-type {\n",
       "        vertical-align: middle;\n",
       "    }\n",
       "\n",
       "    .dataframe tbody tr th {\n",
       "        vertical-align: top;\n",
       "    }\n",
       "\n",
       "    .dataframe thead th {\n",
       "        text-align: right;\n",
       "    }\n",
       "</style>\n",
       "<table border=\"1\" class=\"dataframe\">\n",
       "  <thead>\n",
       "    <tr style=\"text-align: right;\">\n",
       "      <th></th>\n",
       "      <th>id</th>\n",
       "      <th>created_at</th>\n",
       "      <th>amount</th>\n",
       "    </tr>\n",
       "  </thead>\n",
       "  <tbody>\n",
       "    <tr>\n",
       "      <th>1067831</th>\n",
       "      <td>39df9399f5384334a42905bcf0acdcbf</td>\n",
       "      <td>2016-03-09 11:00:09</td>\n",
       "      <td>1.99</td>\n",
       "    </tr>\n",
       "    <tr>\n",
       "      <th>1067832</th>\n",
       "      <td>39df9399f5384334a42905bcf0acdcbf</td>\n",
       "      <td>2016-03-09 11:01:42</td>\n",
       "      <td>1.47</td>\n",
       "    </tr>\n",
       "    <tr>\n",
       "      <th>1067833</th>\n",
       "      <td>39df9399f5384334a42905bcf0acdcbf</td>\n",
       "      <td>2016-03-09 11:02:15</td>\n",
       "      <td>1.06</td>\n",
       "    </tr>\n",
       "    <tr>\n",
       "      <th>1067834</th>\n",
       "      <td>39df9399f5384334a42905bcf0acdcbf</td>\n",
       "      <td>2016-03-09 11:03:11</td>\n",
       "      <td>1.00</td>\n",
       "    </tr>\n",
       "    <tr>\n",
       "      <th>1067835</th>\n",
       "      <td>39df9399f5384334a42905bcf0acdcbf</td>\n",
       "      <td>2016-03-09 17:53:14</td>\n",
       "      <td>1.00</td>\n",
       "    </tr>\n",
       "    <tr>\n",
       "      <th>1067836</th>\n",
       "      <td>39df9399f5384334a42905bcf0acdcbf</td>\n",
       "      <td>2016-03-09 21:59:56</td>\n",
       "      <td>1.00</td>\n",
       "    </tr>\n",
       "    <tr>\n",
       "      <th>1067837</th>\n",
       "      <td>39df9399f5384334a42905bcf0acdcbf</td>\n",
       "      <td>2016-03-09 22:13:48</td>\n",
       "      <td>1.81</td>\n",
       "    </tr>\n",
       "    <tr>\n",
       "      <th>1067838</th>\n",
       "      <td>39df9399f5384334a42905bcf0acdcbf</td>\n",
       "      <td>2016-03-10 09:23:25</td>\n",
       "      <td>1.00</td>\n",
       "    </tr>\n",
       "    <tr>\n",
       "      <th>1067839</th>\n",
       "      <td>39df9399f5384334a42905bcf0acdcbf</td>\n",
       "      <td>2016-03-10 09:31:41</td>\n",
       "      <td>1.00</td>\n",
       "    </tr>\n",
       "    <tr>\n",
       "      <th>1067840</th>\n",
       "      <td>39df9399f5384334a42905bcf0acdcbf</td>\n",
       "      <td>2016-03-10 09:33:47</td>\n",
       "      <td>1.11</td>\n",
       "    </tr>\n",
       "    <tr>\n",
       "      <th>1067841</th>\n",
       "      <td>39df9399f5384334a42905bcf0acdcbf</td>\n",
       "      <td>2016-03-10 09:40:15</td>\n",
       "      <td>1.45</td>\n",
       "    </tr>\n",
       "    <tr>\n",
       "      <th>1067842</th>\n",
       "      <td>39df9399f5384334a42905bcf0acdcbf</td>\n",
       "      <td>2016-03-10 09:42:52</td>\n",
       "      <td>1.00</td>\n",
       "    </tr>\n",
       "    <tr>\n",
       "      <th>1067843</th>\n",
       "      <td>39df9399f5384334a42905bcf0acdcbf</td>\n",
       "      <td>2016-03-10 10:12:02</td>\n",
       "      <td>1.91</td>\n",
       "    </tr>\n",
       "    <tr>\n",
       "      <th>1067844</th>\n",
       "      <td>39df9399f5384334a42905bcf0acdcbf</td>\n",
       "      <td>2016-03-10 21:51:46</td>\n",
       "      <td>1.00</td>\n",
       "    </tr>\n",
       "    <tr>\n",
       "      <th>1067845</th>\n",
       "      <td>39df9399f5384334a42905bcf0acdcbf</td>\n",
       "      <td>2016-03-11 15:19:10</td>\n",
       "      <td>1.00</td>\n",
       "    </tr>\n",
       "    <tr>\n",
       "      <th>1067846</th>\n",
       "      <td>39df9399f5384334a42905bcf0acdcbf</td>\n",
       "      <td>2016-03-11 15:43:06</td>\n",
       "      <td>1.00</td>\n",
       "    </tr>\n",
       "    <tr>\n",
       "      <th>1067847</th>\n",
       "      <td>39df9399f5384334a42905bcf0acdcbf</td>\n",
       "      <td>2016-03-11 21:51:15</td>\n",
       "      <td>1.54</td>\n",
       "    </tr>\n",
       "    <tr>\n",
       "      <th>1067848</th>\n",
       "      <td>39df9399f5384334a42905bcf0acdcbf</td>\n",
       "      <td>2016-03-11 22:11:52</td>\n",
       "      <td>1.11</td>\n",
       "    </tr>\n",
       "    <tr>\n",
       "      <th>1067849</th>\n",
       "      <td>39df9399f5384334a42905bcf0acdcbf</td>\n",
       "      <td>2016-03-11 22:12:01</td>\n",
       "      <td>1.97</td>\n",
       "    </tr>\n",
       "    <tr>\n",
       "      <th>1067850</th>\n",
       "      <td>39df9399f5384334a42905bcf0acdcbf</td>\n",
       "      <td>2016-03-11 22:12:41</td>\n",
       "      <td>1.10</td>\n",
       "    </tr>\n",
       "    <tr>\n",
       "      <th>1067851</th>\n",
       "      <td>39df9399f5384334a42905bcf0acdcbf</td>\n",
       "      <td>2016-03-11 22:12:51</td>\n",
       "      <td>1.72</td>\n",
       "    </tr>\n",
       "    <tr>\n",
       "      <th>1067852</th>\n",
       "      <td>39df9399f5384334a42905bcf0acdcbf</td>\n",
       "      <td>2016-03-11 22:15:49</td>\n",
       "      <td>1.00</td>\n",
       "    </tr>\n",
       "    <tr>\n",
       "      <th>1067853</th>\n",
       "      <td>39df9399f5384334a42905bcf0acdcbf</td>\n",
       "      <td>2016-03-12 00:13:02</td>\n",
       "      <td>1.05</td>\n",
       "    </tr>\n",
       "    <tr>\n",
       "      <th>1067854</th>\n",
       "      <td>39df9399f5384334a42905bcf0acdcbf</td>\n",
       "      <td>2016-03-12 11:34:39</td>\n",
       "      <td>1.00</td>\n",
       "    </tr>\n",
       "    <tr>\n",
       "      <th>1067855</th>\n",
       "      <td>39df9399f5384334a42905bcf0acdcbf</td>\n",
       "      <td>2016-03-12 11:55:30</td>\n",
       "      <td>1.42</td>\n",
       "    </tr>\n",
       "    <tr>\n",
       "      <th>1067856</th>\n",
       "      <td>39df9399f5384334a42905bcf0acdcbf</td>\n",
       "      <td>2016-03-12 18:07:51</td>\n",
       "      <td>1.39</td>\n",
       "    </tr>\n",
       "    <tr>\n",
       "      <th>1067857</th>\n",
       "      <td>39df9399f5384334a42905bcf0acdcbf</td>\n",
       "      <td>2016-03-12 18:08:03</td>\n",
       "      <td>1.59</td>\n",
       "    </tr>\n",
       "    <tr>\n",
       "      <th>1067858</th>\n",
       "      <td>39df9399f5384334a42905bcf0acdcbf</td>\n",
       "      <td>2016-03-12 18:15:43</td>\n",
       "      <td>1.63</td>\n",
       "    </tr>\n",
       "    <tr>\n",
       "      <th>1067859</th>\n",
       "      <td>39df9399f5384334a42905bcf0acdcbf</td>\n",
       "      <td>2016-03-12 20:37:49</td>\n",
       "      <td>1.23</td>\n",
       "    </tr>\n",
       "    <tr>\n",
       "      <th>1067860</th>\n",
       "      <td>39df9399f5384334a42905bcf0acdcbf</td>\n",
       "      <td>2016-03-14 12:49:54</td>\n",
       "      <td>1.08</td>\n",
       "    </tr>\n",
       "    <tr>\n",
       "      <th>1067861</th>\n",
       "      <td>39df9399f5384334a42905bcf0acdcbf</td>\n",
       "      <td>2016-03-15 13:36:30</td>\n",
       "      <td>1.41</td>\n",
       "    </tr>\n",
       "    <tr>\n",
       "      <th>1067862</th>\n",
       "      <td>39df9399f5384334a42905bcf0acdcbf</td>\n",
       "      <td>2016-03-15 13:40:24</td>\n",
       "      <td>1.00</td>\n",
       "    </tr>\n",
       "    <tr>\n",
       "      <th>1067863</th>\n",
       "      <td>39df9399f5384334a42905bcf0acdcbf</td>\n",
       "      <td>2016-03-15 13:44:10</td>\n",
       "      <td>1.00</td>\n",
       "    </tr>\n",
       "    <tr>\n",
       "      <th>1067864</th>\n",
       "      <td>39df9399f5384334a42905bcf0acdcbf</td>\n",
       "      <td>2016-03-15 17:52:05</td>\n",
       "      <td>1.16</td>\n",
       "    </tr>\n",
       "    <tr>\n",
       "      <th>1067865</th>\n",
       "      <td>39df9399f5384334a42905bcf0acdcbf</td>\n",
       "      <td>2016-03-15 18:09:52</td>\n",
       "      <td>1.00</td>\n",
       "    </tr>\n",
       "    <tr>\n",
       "      <th>1067866</th>\n",
       "      <td>39df9399f5384334a42905bcf0acdcbf</td>\n",
       "      <td>2016-03-15 18:13:12</td>\n",
       "      <td>1.44</td>\n",
       "    </tr>\n",
       "    <tr>\n",
       "      <th>1067867</th>\n",
       "      <td>39df9399f5384334a42905bcf0acdcbf</td>\n",
       "      <td>2016-03-18 14:35:35</td>\n",
       "      <td>1.36</td>\n",
       "    </tr>\n",
       "    <tr>\n",
       "      <th>1067868</th>\n",
       "      <td>39df9399f5384334a42905bcf0acdcbf</td>\n",
       "      <td>2016-03-18 14:36:26</td>\n",
       "      <td>1.00</td>\n",
       "    </tr>\n",
       "    <tr>\n",
       "      <th>1067869</th>\n",
       "      <td>39df9399f5384334a42905bcf0acdcbf</td>\n",
       "      <td>2016-03-19 10:24:43</td>\n",
       "      <td>1.05</td>\n",
       "    </tr>\n",
       "  </tbody>\n",
       "</table>\n",
       "</div>"
      ],
      "text/plain": [
       "                                       id          created_at  amount\n",
       "1067831  39df9399f5384334a42905bcf0acdcbf 2016-03-09 11:00:09    1.99\n",
       "1067832  39df9399f5384334a42905bcf0acdcbf 2016-03-09 11:01:42    1.47\n",
       "1067833  39df9399f5384334a42905bcf0acdcbf 2016-03-09 11:02:15    1.06\n",
       "1067834  39df9399f5384334a42905bcf0acdcbf 2016-03-09 11:03:11    1.00\n",
       "1067835  39df9399f5384334a42905bcf0acdcbf 2016-03-09 17:53:14    1.00\n",
       "1067836  39df9399f5384334a42905bcf0acdcbf 2016-03-09 21:59:56    1.00\n",
       "1067837  39df9399f5384334a42905bcf0acdcbf 2016-03-09 22:13:48    1.81\n",
       "1067838  39df9399f5384334a42905bcf0acdcbf 2016-03-10 09:23:25    1.00\n",
       "1067839  39df9399f5384334a42905bcf0acdcbf 2016-03-10 09:31:41    1.00\n",
       "1067840  39df9399f5384334a42905bcf0acdcbf 2016-03-10 09:33:47    1.11\n",
       "1067841  39df9399f5384334a42905bcf0acdcbf 2016-03-10 09:40:15    1.45\n",
       "1067842  39df9399f5384334a42905bcf0acdcbf 2016-03-10 09:42:52    1.00\n",
       "1067843  39df9399f5384334a42905bcf0acdcbf 2016-03-10 10:12:02    1.91\n",
       "1067844  39df9399f5384334a42905bcf0acdcbf 2016-03-10 21:51:46    1.00\n",
       "1067845  39df9399f5384334a42905bcf0acdcbf 2016-03-11 15:19:10    1.00\n",
       "1067846  39df9399f5384334a42905bcf0acdcbf 2016-03-11 15:43:06    1.00\n",
       "1067847  39df9399f5384334a42905bcf0acdcbf 2016-03-11 21:51:15    1.54\n",
       "1067848  39df9399f5384334a42905bcf0acdcbf 2016-03-11 22:11:52    1.11\n",
       "1067849  39df9399f5384334a42905bcf0acdcbf 2016-03-11 22:12:01    1.97\n",
       "1067850  39df9399f5384334a42905bcf0acdcbf 2016-03-11 22:12:41    1.10\n",
       "1067851  39df9399f5384334a42905bcf0acdcbf 2016-03-11 22:12:51    1.72\n",
       "1067852  39df9399f5384334a42905bcf0acdcbf 2016-03-11 22:15:49    1.00\n",
       "1067853  39df9399f5384334a42905bcf0acdcbf 2016-03-12 00:13:02    1.05\n",
       "1067854  39df9399f5384334a42905bcf0acdcbf 2016-03-12 11:34:39    1.00\n",
       "1067855  39df9399f5384334a42905bcf0acdcbf 2016-03-12 11:55:30    1.42\n",
       "1067856  39df9399f5384334a42905bcf0acdcbf 2016-03-12 18:07:51    1.39\n",
       "1067857  39df9399f5384334a42905bcf0acdcbf 2016-03-12 18:08:03    1.59\n",
       "1067858  39df9399f5384334a42905bcf0acdcbf 2016-03-12 18:15:43    1.63\n",
       "1067859  39df9399f5384334a42905bcf0acdcbf 2016-03-12 20:37:49    1.23\n",
       "1067860  39df9399f5384334a42905bcf0acdcbf 2016-03-14 12:49:54    1.08\n",
       "1067861  39df9399f5384334a42905bcf0acdcbf 2016-03-15 13:36:30    1.41\n",
       "1067862  39df9399f5384334a42905bcf0acdcbf 2016-03-15 13:40:24    1.00\n",
       "1067863  39df9399f5384334a42905bcf0acdcbf 2016-03-15 13:44:10    1.00\n",
       "1067864  39df9399f5384334a42905bcf0acdcbf 2016-03-15 17:52:05    1.16\n",
       "1067865  39df9399f5384334a42905bcf0acdcbf 2016-03-15 18:09:52    1.00\n",
       "1067866  39df9399f5384334a42905bcf0acdcbf 2016-03-15 18:13:12    1.44\n",
       "1067867  39df9399f5384334a42905bcf0acdcbf 2016-03-18 14:35:35    1.36\n",
       "1067868  39df9399f5384334a42905bcf0acdcbf 2016-03-18 14:36:26    1.00\n",
       "1067869  39df9399f5384334a42905bcf0acdcbf 2016-03-19 10:24:43    1.05"
      ]
     },
     "execution_count": 43,
     "metadata": {},
     "output_type": "execute_result"
    }
   ],
   "source": [
    "mfd_freq_mar16 =  mfd_freq[(mfd_freq['created_at']>datetime.date(2016,3,1)) & (mfd_freq['created_at']<datetime.date(2016,3,28))]\n",
    "mfd_freq_mar16"
   ]
  },
  {
   "cell_type": "markdown",
   "metadata": {},
   "source": [
    "# retention rate\n",
    "\n"
   ]
  },
  {
   "cell_type": "code",
   "execution_count": 74,
   "metadata": {},
   "outputs": [
    {
     "name": "stderr",
     "output_type": "stream",
     "text": [
      "C:\\ProgramData\\Anaconda3\\lib\\site-packages\\ipykernel_launcher.py:3: FutureWarning: Comparing Series of datetimes with 'datetime.date'.  Currently, the\n",
      "'datetime.date' is coerced to a datetime. In the future pandas will\n",
      "not coerce, and a TypeError will be raised. To retain the current\n",
      "behavior, convert the 'datetime.date' to a datetime with\n",
      "'pd.Timestamp'.\n",
      "  This is separate from the ipykernel package so we can avoid doing imports until\n",
      "C:\\ProgramData\\Anaconda3\\lib\\site-packages\\ipykernel_launcher.py:4: FutureWarning: Comparing Series of datetimes with 'datetime.date'.  Currently, the\n",
      "'datetime.date' is coerced to a datetime. In the future pandas will\n",
      "not coerce, and a TypeError will be raised. To retain the current\n",
      "behavior, convert the 'datetime.date' to a datetime with\n",
      "'pd.Timestamp'.\n",
      "  after removing the cwd from sys.path.\n"
     ]
    },
    {
     "name": "stdout",
     "output_type": "stream",
     "text": [
      "                                  id          created_at  amount\n",
      "1   00002783bc5d108510f3f9666c8b1edd 2016-02-02 18:34:27    99.0\n",
      "2   00002d44003ed46b066607c5455a999a 2016-10-25 20:15:11    10.0\n",
      "14  00002eb25d60a09c318efbd0797bffb5 2016-01-14 14:13:57    50.0\n",
      "20  00004e32a448b4832e1b993500bf0731 2016-08-21 19:25:33    25.0\n",
      "54  0000a3fd8b8a3d1a90fbb1e0cd44c62b 2016-10-05 09:04:16    50.0\n",
      "                                 id          created_at  amount\n",
      "3  00002d44003ed46b066607c5455a999a 2017-01-16 01:11:20   15.51\n",
      "4  00002d44003ed46b066607c5455a999a 2017-01-16 14:20:10  100.00\n",
      "5  00002d44003ed46b066607c5455a999a 2017-01-16 14:26:19    9.69\n",
      "6  00002d44003ed46b066607c5455a999a 2017-01-16 15:46:57   13.75\n",
      "7  00002d44003ed46b066607c5455a999a 2017-02-01 18:53:25  150.00\n"
     ]
    }
   ],
   "source": [
    "#Establishing Timeframe of 2016 - 2017\n",
    "\n",
    "pd1 =  file[(file['created_at']>=datetime.date(2016,1,1)) & (file['created_at']<=datetime.date(2016,12,31))]\n",
    "pd2 =  file[(file['created_at']>=datetime.date(2017,1,1)) & (file['created_at']<=datetime.date(2017,12,31))]\n",
    "\n",
    "print(pd1.head())\n",
    "print(pd2.head())"
   ]
  },
  {
   "cell_type": "code",
   "execution_count": 75,
   "metadata": {},
   "outputs": [
    {
     "data": {
      "text/plain": [
       "a7fa881a86cb4c7e70815b38168d1702    3673\n",
       "39df9399f5384334a42905bcf0acdcbf    3040\n",
       "237db43817f34988f9d543ca518be4ee    2508\n",
       "a299db9679f7746a805fbc300362191d    1579\n",
       "4416745560343f14a74dedcda4ec03b0    1500\n",
       "19f24640d9da49f6f8b4c9938c049591    1412\n",
       "a0e1d358aa17745ff3d3f4e4909356f3    1233\n",
       "b51c76411b51751f45527c63c69ead9e    1211\n",
       "6a35a7514005c04f8520e5d8f7657d91    1103\n",
       "fb961cd43218b42e06852a1e3bf82286    1084\n",
       "86d57a6264726b2a94c5b9663f46330c    1073\n",
       "d006be7223c048ae8b2bdedd7dd2b4db    1054\n",
       "66c30e1da1934d7cfe810ba79f6e04c1     965\n",
       "a747520b8d27d36d2f929f2b12e243ab     936\n",
       "a949a2ed73b13adb7a63fbc8ea90f6dc     928\n",
       "75e09805b663bbe4b80b40034c192b4a     910\n",
       "1be8ff2501f21dbe85a2fc87afb641e8     856\n",
       "0d90f689080b0d740a62a51c7f362829     844\n",
       "f37b9ff133242d08658ca2b17b3ab84c     767\n",
       "406518edf1c30d599de90e2055a697fc     737\n",
       "c376c98b0cdb746cf025bb21ee810376     725\n",
       "82a258e41c5d1b71ba786065573f0584     692\n",
       "e7692ca3a0fe35653c173de80adfc880     686\n",
       "161003b94c2310d9ee64985e1027e5d3     679\n",
       "a3035865529f45390eadc0ed998ec255     638\n",
       "b71e86099da00bfa6adf64b70206c9ce     635\n",
       "74f7db06bcd9557d1e992dc029db69cc     628\n",
       "d24347fdee199ae9395ad44484e1caf7     626\n",
       "7c8313b677fab6e47d00c873cbd7224b     568\n",
       "1bd2897236a4c343102e5e8e26d2ad4a     532\n",
       "                                    ... \n",
       "f608e075be6eff6c6867c968c6008c1b       1\n",
       "f45af2b1e79406aa1622f9b4ba4e3df2       1\n",
       "97273ca1d5d2c2e410696d550f4fb857       1\n",
       "3f58f45f414ee50b06a0f0b71b684f1b       1\n",
       "2b9b8fc7397159197ce9bb06124bfd60       1\n",
       "a9de9c14fc89420acfd242046f7a0d0b       1\n",
       "cf4b54792a9b30cfd23812ff5e4a799e       1\n",
       "f0c30889f3a85610602e71bd19372de9       1\n",
       "583a30f89b25b24e0fa3d7073a414fa5       1\n",
       "894d119801fad320faefb8a2842ab8c4       1\n",
       "c39a2187a3b640e1ffd45670ce50610c       1\n",
       "9ae9d1fa7710f0ee9be274af71ee5587       1\n",
       "b5ad61eb0d6d0822821f79826cfb608f       1\n",
       "5792f8779fe9ed5846cd8f971578d248       1\n",
       "97dfdaade46b5cc2f88a75195211bac0       1\n",
       "583172781a8a06dc42e7d6ffd222ddfe       1\n",
       "491db8b726aed95078ca78f91a56c2ff       1\n",
       "ca299625d7359d6ac4fe216b04fb82ec       1\n",
       "30ac9e028e079b5a8f3662227a86d9cc       1\n",
       "6b8099266844cab7c0a93168dc4f67a0       1\n",
       "0193917b68a5ed88fc82412ab6ae113f       1\n",
       "1f34b7cbe619524a4a874ae572e20273       1\n",
       "837abd23842ea4f18e6e0ac5c247ee9b       1\n",
       "fa15e434bc852d374af2a97320e545f3       1\n",
       "497cde646bf678c7cfdff477ca4e5b09       1\n",
       "ff0c3052b75954df49fdb96190eee388       1\n",
       "57084002601516ba173a8638c686ffd4       1\n",
       "824247a4c20b170b1d8e55564d62ccac       1\n",
       "d20bbbe1fc8ec0ecd465fa56ce5a2b6e       1\n",
       "5ff8b736a285a6fd9ca1978be1dd07b0       1\n",
       "Name: id, Length: 554159, dtype: int64"
      ]
     },
     "execution_count": 75,
     "metadata": {},
     "output_type": "execute_result"
    }
   ],
   "source": [
    "# View unique donors in 2016\n",
    "pd1['id'].value_counts()\n",
    "\n",
    "\n",
    "# 554,159 unique donors identified"
   ]
  },
  {
   "cell_type": "code",
   "execution_count": 77,
   "metadata": {},
   "outputs": [
    {
     "data": {
      "text/plain": [
       "39df9399f5384334a42905bcf0acdcbf    13746\n",
       "237db43817f34988f9d543ca518be4ee     3932\n",
       "24ecca49933c30a0beb83090591720c0     3821\n",
       "0cd96e83a645971f6deb4559262b7688     2475\n",
       "de8b8ed34d1800ca93f7ef480857d872     2150\n",
       "4942150e351df37d02b1b1008032d795     1775\n",
       "0d9c155b27c25fa0dbac617f9507226d     1574\n",
       "a299db9679f7746a805fbc300362191d     1455\n",
       "a949a2ed73b13adb7a63fbc8ea90f6dc     1435\n",
       "f4e59466422bf084792071a849284771     1343\n",
       "6a35a7514005c04f8520e5d8f7657d91     1339\n",
       "f9dd79ea006fee7bb4a5cc8473d8656c     1272\n",
       "19f24640d9da49f6f8b4c9938c049591     1269\n",
       "d006be7223c048ae8b2bdedd7dd2b4db     1246\n",
       "fb961cd43218b42e06852a1e3bf82286     1202\n",
       "22f51fc8e5750e45e7a3da489eacfe40     1137\n",
       "4416745560343f14a74dedcda4ec03b0     1114\n",
       "66c30e1da1934d7cfe810ba79f6e04c1      968\n",
       "3ba8a29e3dd72043f9738c0895733834      966\n",
       "b51c76411b51751f45527c63c69ead9e      959\n",
       "1be8ff2501f21dbe85a2fc87afb641e8      875\n",
       "544eea257f2154d79dab2f7119f11af2      858\n",
       "c376c98b0cdb746cf025bb21ee810376      845\n",
       "a747520b8d27d36d2f929f2b12e243ab      844\n",
       "86d57a6264726b2a94c5b9663f46330c      827\n",
       "ebf4949aa3d2a10c7518ce1b348d9f0f      819\n",
       "b02e6d6a11f2fecbfead6fdbfb6664ff      793\n",
       "560970c7a82523f66d4977d02db20dcc      775\n",
       "75e09805b663bbe4b80b40034c192b4a      771\n",
       "2dd5ef5f3acc58a4bc71871e53263d62      730\n",
       "                                    ...  \n",
       "e3d470cc01f3a4191a624db0573d60e4        1\n",
       "00a39f123badbe41fc0a99f5338bbdc1        1\n",
       "cf790d5f365e5c9d063cfcf4accafab5        1\n",
       "ac391569b0979e5892928d2aae2c7860        1\n",
       "22d265267da2ba387c3f8e290ae3499f        1\n",
       "e37d78eb199de549a04e4d422013a597        1\n",
       "bb380c8aac0ba667b83d01a2b5185e03        1\n",
       "59c10bf9ad93ce3809b61d3ab0fe1105        1\n",
       "25c62231e9bfc477b53d375d547149b1        1\n",
       "a0b699ed03ef38bcc331a12e310429a7        1\n",
       "f5639cd333dea8a2182d4e135a2d561e        1\n",
       "7ab442deb4da59cc86a7997320b89bf8        1\n",
       "428dd9d0847200cc6a646dbd7973b2b5        1\n",
       "848585a9677a7fec08fb3baacc3d3fd8        1\n",
       "64f12f92cc76eb0f2bf3948f0e48439b        1\n",
       "29645fdbd8a11d65f7e76a77f102db60        1\n",
       "f336edb69fd31a11a52d624346850d9a        1\n",
       "91218509acf7f511bad8c2dcaf8d7934        1\n",
       "568c05b52d5dd021d38a0e3871a17200        1\n",
       "b994f52b1fbb83fedf4d2e7151ece40f        1\n",
       "2f1ae1084d3c1e536a06157bb2308fda        1\n",
       "1be5313b8c6a5eafaa7b71f5901eb64b        1\n",
       "e0fe5afe943333f1da4b7e631fd524c7        1\n",
       "57b2e0d266a90d4e14e8b69b7c09424d        1\n",
       "184eb0e198161813470a1422a046d9e2        1\n",
       "49cfbc4db69b1cdcd90e16dc70dc2dc8        1\n",
       "2e94aa2765e1363fe903a8f0e982d1da        1\n",
       "eba6ca34c9a787e0a770bd91bd90a918        1\n",
       "f2da0f0830184f6579ca77b7b74298cf        1\n",
       "0e58fddfe4c8526becaafa787502b5aa        1\n",
       "Name: id, Length: 573042, dtype: int64"
      ]
     },
     "execution_count": 77,
     "metadata": {},
     "output_type": "execute_result"
    }
   ],
   "source": [
    "# View unique donors in 2016\n",
    "pd2['id'].value_counts()\n",
    "\n",
    "\n",
    "# 573042 unique donors identified"
   ]
  },
  {
   "cell_type": "code",
   "execution_count": 66,
   "metadata": {},
   "outputs": [
    {
     "data": {
      "text/plain": [
       "a7fa881a86cb4c7e70815b38168d1702    3673\n",
       "39df9399f5384334a42905bcf0acdcbf    3040\n",
       "237db43817f34988f9d543ca518be4ee    2508\n",
       "a299db9679f7746a805fbc300362191d    1579\n",
       "4416745560343f14a74dedcda4ec03b0    1500\n",
       "19f24640d9da49f6f8b4c9938c049591    1412\n",
       "a0e1d358aa17745ff3d3f4e4909356f3    1233\n",
       "b51c76411b51751f45527c63c69ead9e    1211\n",
       "6a35a7514005c04f8520e5d8f7657d91    1103\n",
       "fb961cd43218b42e06852a1e3bf82286    1084\n",
       "86d57a6264726b2a94c5b9663f46330c    1073\n",
       "d006be7223c048ae8b2bdedd7dd2b4db    1054\n",
       "66c30e1da1934d7cfe810ba79f6e04c1     965\n",
       "a747520b8d27d36d2f929f2b12e243ab     936\n",
       "a949a2ed73b13adb7a63fbc8ea90f6dc     928\n",
       "75e09805b663bbe4b80b40034c192b4a     910\n",
       "1be8ff2501f21dbe85a2fc87afb641e8     856\n",
       "0d90f689080b0d740a62a51c7f362829     844\n",
       "f37b9ff133242d08658ca2b17b3ab84c     767\n",
       "406518edf1c30d599de90e2055a697fc     737\n",
       "c376c98b0cdb746cf025bb21ee810376     725\n",
       "82a258e41c5d1b71ba786065573f0584     692\n",
       "e7692ca3a0fe35653c173de80adfc880     686\n",
       "161003b94c2310d9ee64985e1027e5d3     679\n",
       "a3035865529f45390eadc0ed998ec255     638\n",
       "b71e86099da00bfa6adf64b70206c9ce     635\n",
       "74f7db06bcd9557d1e992dc029db69cc     628\n",
       "d24347fdee199ae9395ad44484e1caf7     626\n",
       "a1929a1172ad0b3d14bc84f54018c563     532\n",
       "1bd2897236a4c343102e5e8e26d2ad4a     532\n",
       "                                    ... \n",
       "04910406e1928cf13609eabbca4caaed       1\n",
       "fb366401b5e57c350e3fa5c5ae48ee4d       1\n",
       "45867040857b4c1cf2facce4746c6288       1\n",
       "bbfd5aa9b56604cd5c94b89a34fd6fe7       1\n",
       "a9313d65350b8af48619468f524b5374       1\n",
       "0fc4652e3c67578023432e7cb0cc580e       1\n",
       "f99234e84050600a0fa3039547726287       1\n",
       "4d00bd624517f90a46ae508643673ca1       1\n",
       "00e1263d3297f6e5a47a80140944bb6a       1\n",
       "92272ae78f58a564a8785c1ee1e5ec64       1\n",
       "5aeefc9aafb71e80a6ca1c511bccb6dc       1\n",
       "de629763b3d80b7975885fe7e320e8e3       1\n",
       "06b8891c5db981b412582c40ed9ef4d2       1\n",
       "8bc02027b13e737d7e359b5acaae59ed       1\n",
       "f4dd12082c2a12f402408d9631c83f9b       1\n",
       "eee266dbc5f29f647f1cbb17cc95e39b       1\n",
       "199f4d4212cec1a676e686c263fbaf70       1\n",
       "93d2b683c5c463438ee8bf485edea5dc       1\n",
       "f3f7806b864a70faacd403fd2d7234b9       1\n",
       "664cd3372eaca1443c0c6e0c0489b47d       1\n",
       "92edadef7a66477dae0de44da826eadc       1\n",
       "5defc6726e18ec6367e5c0708008dbaf       1\n",
       "937ad5f6b8b8b9cd9840c13de0ba448b       1\n",
       "417c5163402090e8770a6d3ca5a87f55       1\n",
       "8f4eca9e826999f4a9d1814592ea4684       1\n",
       "61673975cf076cbb551c2bc8b981454b       1\n",
       "f63e235a75102547f2a87d939bbe9534       1\n",
       "e435805f11d3f24ded4d7991b9c47d00       1\n",
       "a1c2e77d88b80df98f35395609fe9609       1\n",
       "8b8ab2f6c0361494ba86c9fc52fb78bf       1\n",
       "Name: id, Length: 98645, dtype: int64"
      ]
     },
     "execution_count": 66,
     "metadata": {},
     "output_type": "execute_result"
    }
   ],
   "source": [
    "# pd2 will need to be filtered down to the same donors in 2016, try using isin\n",
    "\n",
    "pd2_ret = pd1[pd1['id'].isin(pd2.id)]\n",
    "\n",
    "\n",
    "pd2_ret['id'].value_counts()\n",
    "\n"
   ]
  },
  {
   "cell_type": "markdown",
   "metadata": {},
   "source": [
    "# Rolling Retention Rate 2017 - 2016"
   ]
  },
  {
   "cell_type": "code",
   "execution_count": 78,
   "metadata": {},
   "outputs": [],
   "source": [
    "# Retention Rate Function \n",
    "\n",
    "# Retention Rate = Count of donors with 1+ gift(s) in both Period 1 and Period 2 / \n",
    "#Count of donors with 1+ gift(s) in Period 1\n",
    "\n",
    "#pd1 donors: 554159\n",
    "#pd2 donors: 98645\n",
    "\n",
    "# ret rate rolling = (pd2 returning donors / pd1 donors) * 100\n",
    "\n",
    "def RetRate (amount1, amount2):\n",
    "    ret_rate = (amount2/amount1)\n",
    "    ret_rate_rolling = (ret_rate * 100)\n",
    "    return ret_rate_rolling\n"
   ]
  },
  {
   "cell_type": "code",
   "execution_count": 79,
   "metadata": {},
   "outputs": [
    {
     "data": {
      "text/plain": [
       "17.80084777112706"
      ]
     },
     "execution_count": 79,
     "metadata": {},
     "output_type": "execute_result"
    }
   ],
   "source": [
    "#ret rate 2017 - 2016\n",
    "RetRate(554159,98645)"
   ]
  },
  {
   "cell_type": "markdown",
   "metadata": {},
   "source": [
    "# Retention Rates for 2016 - 2015"
   ]
  },
  {
   "cell_type": "code",
   "execution_count": 60,
   "metadata": {},
   "outputs": [
    {
     "name": "stderr",
     "output_type": "stream",
     "text": [
      "C:\\ProgramData\\Anaconda3\\lib\\site-packages\\ipykernel_launcher.py:1: FutureWarning: Comparing Series of datetimes with 'datetime.date'.  Currently, the\n",
      "'datetime.date' is coerced to a datetime. In the future pandas will\n",
      "not coerce, and a TypeError will be raised. To retain the current\n",
      "behavior, convert the 'datetime.date' to a datetime with\n",
      "'pd.Timestamp'.\n",
      "  \"\"\"Entry point for launching an IPython kernel.\n",
      "C:\\ProgramData\\Anaconda3\\lib\\site-packages\\ipykernel_launcher.py:2: FutureWarning: Comparing Series of datetimes with 'datetime.date'.  Currently, the\n",
      "'datetime.date' is coerced to a datetime. In the future pandas will\n",
      "not coerce, and a TypeError will be raised. To retain the current\n",
      "behavior, convert the 'datetime.date' to a datetime with\n",
      "'pd.Timestamp'.\n",
      "  \n"
     ]
    }
   ],
   "source": [
    "# Set Time frames \n",
    "pd3 =  file[(file['created_at']>=datetime.date(2015,1,1)) & (file['created_at']<=datetime.date(2015,12,31))]\n",
    "pd4 =  file[(file['created_at']>=datetime.date(2016,1,1)) & (file['created_at']<=datetime.date(2016,12,31))]"
   ]
  },
  {
   "cell_type": "code",
   "execution_count": 80,
   "metadata": {},
   "outputs": [
    {
     "data": {
      "text/plain": [
       "19f24640d9da49f6f8b4c9938c049591    2231\n",
       "237db43817f34988f9d543ca518be4ee    1778\n",
       "a1929a1172ad0b3d14bc84f54018c563    1395\n",
       "74f7db06bcd9557d1e992dc029db69cc    1238\n",
       "a0e1d358aa17745ff3d3f4e4909356f3    1214\n",
       "75e09805b663bbe4b80b40034c192b4a    1088\n",
       "f37b9ff133242d08658ca2b17b3ab84c     972\n",
       "89938b0c7cca8e61dcd93d9363609bd1     964\n",
       "7f0f127b9f4651d2119db95bac9455c1     961\n",
       "b51c76411b51751f45527c63c69ead9e     947\n",
       "1756d766dab5b3cac8f2aa500430f326     945\n",
       "66c30e1da1934d7cfe810ba79f6e04c1     871\n",
       "8cdc14c8af9e189227aaa8d5e51935b0     870\n",
       "a3035865529f45390eadc0ed998ec255     762\n",
       "7fbbd53cb78bb7a35525d6918c6b5704     734\n",
       "6dd7995a998f79a8c65a0d400c9a5350     708\n",
       "86d57a6264726b2a94c5b9663f46330c     708\n",
       "c376c98b0cdb746cf025bb21ee810376     697\n",
       "406518edf1c30d599de90e2055a697fc     696\n",
       "ebf4949aa3d2a10c7518ce1b348d9f0f     684\n",
       "737fcb389f66ddc59f962e7a3e57112e     664\n",
       "e7692ca3a0fe35653c173de80adfc880     662\n",
       "0e345dcdef0d2a36c9bd17bf1ac3e10a     654\n",
       "6a35a7514005c04f8520e5d8f7657d91     648\n",
       "eecc14ded80a38f692a590fe80c7b08f     642\n",
       "28601b5d4270c7f42a43bb5a44753d8e     637\n",
       "0e01e632606c230914fe73c2d2ccead3     599\n",
       "be833db4f16df25696356b1194a14308     571\n",
       "4416745560343f14a74dedcda4ec03b0     564\n",
       "009d5fc7b87883ffad248db5150bf1fc     544\n",
       "                                    ... \n",
       "1dadce9c402b66db980c92e627f8d6ad       1\n",
       "ffee2b2778b9ea968a8c155ef320168e       1\n",
       "fe753bbf724f953264515ee49bafcda4       1\n",
       "ae89836f6c72e4dcd8ba67b409379e72       1\n",
       "ea609ea5aa3cb42ee6fa4580793d3097       1\n",
       "d63416b1802385d4e3c89a3f659db8ea       1\n",
       "c6b3dbe1f5a12eea222d69ead37d89c0       1\n",
       "714cc28ecacbb8f534676dfb8f2ea19b       1\n",
       "f5268831a57147d37f0a15ba6cb1dcda       1\n",
       "068d4d11ede02491815a1f8dea203faa       1\n",
       "9acdc5284de86e169fba579a89ecd065       1\n",
       "6c4a07f2552e856a746f20876c877553       1\n",
       "8979453844681af2845be8cd00268353       1\n",
       "176caeaee4b9be019d7b8646038644c4       1\n",
       "9e13469fcd296f4a50d560fe53a13673       1\n",
       "73eab08f2c9c521aaf2f8b63487bd081       1\n",
       "23a07805538f1f86d4fe5727d444728e       1\n",
       "fbc4b340c79e6c8e985caa386346ee31       1\n",
       "0af6cff5990f0cbb9cca366ade09f28f       1\n",
       "01b3d04e4987340512aa575b665baff6       1\n",
       "91611fc071d6c68a7e313ce3d533703a       1\n",
       "1032e3bf8c0c25e7c5eedf892e48ca0f       1\n",
       "663cb3fa55e0dc00d59f31a72ee5dcd2       1\n",
       "979bd8d4f3b93ed24c18dde1650e830e       1\n",
       "d385f51911b72d2351540c0c565cc641       1\n",
       "3aff46eafb85a4ece06ace1d7e2ece8e       1\n",
       "44f2dbbc84a732b47e5867378b640523       1\n",
       "e607fbbae832edee447a8a98096c1cff       1\n",
       "0a8f525579e4d2330224cd111008934d       1\n",
       "40f3d953d6569d8ae4b5b0b5b2465e4d       1\n",
       "Name: id, Length: 79441, dtype: int64"
      ]
     },
     "execution_count": 80,
     "metadata": {},
     "output_type": "execute_result"
    }
   ],
   "source": [
    "pd4_ret = pd3[pd3['id'].isin(pd4.id)]\n",
    "pd4_ret['id'].value_counts()\n",
    "\n",
    "#Returning number of donors: 79441"
   ]
  },
  {
   "cell_type": "code",
   "execution_count": 81,
   "metadata": {},
   "outputs": [
    {
     "data": {
      "text/plain": [
       "19f24640d9da49f6f8b4c9938c049591    2231\n",
       "237db43817f34988f9d543ca518be4ee    1778\n",
       "a1929a1172ad0b3d14bc84f54018c563    1395\n",
       "74f7db06bcd9557d1e992dc029db69cc    1238\n",
       "a0e1d358aa17745ff3d3f4e4909356f3    1214\n",
       "75e09805b663bbe4b80b40034c192b4a    1088\n",
       "f37b9ff133242d08658ca2b17b3ab84c     972\n",
       "89938b0c7cca8e61dcd93d9363609bd1     964\n",
       "7f0f127b9f4651d2119db95bac9455c1     961\n",
       "b51c76411b51751f45527c63c69ead9e     947\n",
       "1756d766dab5b3cac8f2aa500430f326     945\n",
       "66c30e1da1934d7cfe810ba79f6e04c1     871\n",
       "8cdc14c8af9e189227aaa8d5e51935b0     870\n",
       "a3035865529f45390eadc0ed998ec255     762\n",
       "7fbbd53cb78bb7a35525d6918c6b5704     734\n",
       "86d57a6264726b2a94c5b9663f46330c     708\n",
       "6dd7995a998f79a8c65a0d400c9a5350     708\n",
       "c376c98b0cdb746cf025bb21ee810376     697\n",
       "406518edf1c30d599de90e2055a697fc     696\n",
       "ebf4949aa3d2a10c7518ce1b348d9f0f     684\n",
       "737fcb389f66ddc59f962e7a3e57112e     664\n",
       "e7692ca3a0fe35653c173de80adfc880     662\n",
       "0e345dcdef0d2a36c9bd17bf1ac3e10a     654\n",
       "6a35a7514005c04f8520e5d8f7657d91     648\n",
       "eecc14ded80a38f692a590fe80c7b08f     642\n",
       "28601b5d4270c7f42a43bb5a44753d8e     637\n",
       "0e01e632606c230914fe73c2d2ccead3     599\n",
       "be833db4f16df25696356b1194a14308     571\n",
       "4416745560343f14a74dedcda4ec03b0     564\n",
       "009d5fc7b87883ffad248db5150bf1fc     544\n",
       "                                    ... \n",
       "40942be72cbef0770e07062adc6eddd6       1\n",
       "1d5865ab5399c4ab506e5fc1a8152775       1\n",
       "2cfedc1f2847b89c4eb8fad0dabeb9ae       1\n",
       "eac5b33555a51b1f1c03387a8561555f       1\n",
       "a8c22273b036f09c38efb1c4ca3e4ed5       1\n",
       "f0a3f3dcef6ab8e516c8dc186d3518af       1\n",
       "35e88c4298e78ea807d6ec100ee4da67       1\n",
       "92944d260a89e4a5d0f6b6326c004334       1\n",
       "18e709d4f30c5ac3f860643902d81af3       1\n",
       "72358454fc7c157ea4ff45b6001735f3       1\n",
       "c141a4758f007ed70de7c51958244ac9       1\n",
       "e8d4ece0fee2bd0092abeecbc47ed251       1\n",
       "8eb2d7e12988dfdfbc1f85ae707d09b9       1\n",
       "66468df25c39393317169dd3208edc8e       1\n",
       "608474d8373174286c73b792288e4eb4       1\n",
       "b24c42bad45f4d4c2d9a944c8185d4f8       1\n",
       "6fcf4cb6bd2251d9196db63ad4c68038       1\n",
       "1a5695bea2f3dfc6a89e895a8dd483d7       1\n",
       "79d8b29de3d8faf1c95b71ca343409df       1\n",
       "330c0841735746b8df4d8b1f4099ce72       1\n",
       "0ea39e6501b23da1f6c3597bd0d181bc       1\n",
       "c2e9ac9bd988a667d9bca6fee05248f5       1\n",
       "0ee9d6292ed4143064a2b9a9d0c96ed9       1\n",
       "a811b52eceaf6f5b753d4f5712cb5eb8       1\n",
       "18cce02bd5fd8e015d1455c00d672635       1\n",
       "0a1972def7a11d5665853094b3f3b042       1\n",
       "6f176038df2299394d49587f93b789a2       1\n",
       "866a256675e8baf14f4571279b1c6eea       1\n",
       "25067a57601ee0efa7201e2ae4ae6146       1\n",
       "79279d2a581041b4d6f7b10befdc5649       1\n",
       "Name: id, Length: 444546, dtype: int64"
      ]
     },
     "execution_count": 81,
     "metadata": {},
     "output_type": "execute_result"
    }
   ],
   "source": [
    "pd3['id'].value_counts()\n",
    "# Number of unique donors: 444546"
   ]
  },
  {
   "cell_type": "code",
   "execution_count": 69,
   "metadata": {},
   "outputs": [
    {
     "data": {
      "text/plain": [
       "17.870141672627803"
      ]
     },
     "execution_count": 69,
     "metadata": {},
     "output_type": "execute_result"
    }
   ],
   "source": [
    "RetRate(444546,79441)"
   ]
  },
  {
   "cell_type": "markdown",
   "metadata": {},
   "source": [
    "# Retention Rate 2015 - 2014"
   ]
  },
  {
   "cell_type": "code",
   "execution_count": 82,
   "metadata": {},
   "outputs": [
    {
     "name": "stderr",
     "output_type": "stream",
     "text": [
      "C:\\ProgramData\\Anaconda3\\lib\\site-packages\\ipykernel_launcher.py:3: FutureWarning: Comparing Series of datetimes with 'datetime.date'.  Currently, the\n",
      "'datetime.date' is coerced to a datetime. In the future pandas will\n",
      "not coerce, and a TypeError will be raised. To retain the current\n",
      "behavior, convert the 'datetime.date' to a datetime with\n",
      "'pd.Timestamp'.\n",
      "  This is separate from the ipykernel package so we can avoid doing imports until\n",
      "C:\\ProgramData\\Anaconda3\\lib\\site-packages\\ipykernel_launcher.py:4: FutureWarning: Comparing Series of datetimes with 'datetime.date'.  Currently, the\n",
      "'datetime.date' is coerced to a datetime. In the future pandas will\n",
      "not coerce, and a TypeError will be raised. To retain the current\n",
      "behavior, convert the 'datetime.date' to a datetime with\n",
      "'pd.Timestamp'.\n",
      "  after removing the cwd from sys.path.\n"
     ]
    },
    {
     "data": {
      "text/plain": [
       "19f24640d9da49f6f8b4c9938c049591    2231\n",
       "237db43817f34988f9d543ca518be4ee    1778\n",
       "a1929a1172ad0b3d14bc84f54018c563    1395\n",
       "74f7db06bcd9557d1e992dc029db69cc    1238\n",
       "a0e1d358aa17745ff3d3f4e4909356f3    1214\n",
       "75e09805b663bbe4b80b40034c192b4a    1088\n",
       "f37b9ff133242d08658ca2b17b3ab84c     972\n",
       "89938b0c7cca8e61dcd93d9363609bd1     964\n",
       "7f0f127b9f4651d2119db95bac9455c1     961\n",
       "b51c76411b51751f45527c63c69ead9e     947\n",
       "1756d766dab5b3cac8f2aa500430f326     945\n",
       "66c30e1da1934d7cfe810ba79f6e04c1     871\n",
       "8cdc14c8af9e189227aaa8d5e51935b0     870\n",
       "a3035865529f45390eadc0ed998ec255     762\n",
       "7fbbd53cb78bb7a35525d6918c6b5704     734\n",
       "86d57a6264726b2a94c5b9663f46330c     708\n",
       "6dd7995a998f79a8c65a0d400c9a5350     708\n",
       "c376c98b0cdb746cf025bb21ee810376     697\n",
       "406518edf1c30d599de90e2055a697fc     696\n",
       "ebf4949aa3d2a10c7518ce1b348d9f0f     684\n",
       "737fcb389f66ddc59f962e7a3e57112e     664\n",
       "e7692ca3a0fe35653c173de80adfc880     662\n",
       "0e345dcdef0d2a36c9bd17bf1ac3e10a     654\n",
       "6a35a7514005c04f8520e5d8f7657d91     648\n",
       "eecc14ded80a38f692a590fe80c7b08f     642\n",
       "28601b5d4270c7f42a43bb5a44753d8e     637\n",
       "0e01e632606c230914fe73c2d2ccead3     599\n",
       "be833db4f16df25696356b1194a14308     571\n",
       "4416745560343f14a74dedcda4ec03b0     564\n",
       "009d5fc7b87883ffad248db5150bf1fc     544\n",
       "                                    ... \n",
       "ee9990c9855f726dd5378bfd80796e52       1\n",
       "2e35b9690e0b9743c43a689945458c96       1\n",
       "db87bf25d79f78e4daf092ca1b64075d       1\n",
       "b7193b16bcf605227348cc7a848701c3       1\n",
       "629a0884294e45a9ba43cee60cdd2d61       1\n",
       "bd97598ea2749acfa252018559eefb15       1\n",
       "a64665d85271a7e883f92009efbac5f8       1\n",
       "22ade96e1389d74e49782e5b5e6ec5f3       1\n",
       "4e029b12f845a6ca4f0779dcda0a838b       1\n",
       "03d0f3eb35ad72d6967c8448340d13c2       1\n",
       "654c3df81aa6973d5fdd7b322b05f2ae       1\n",
       "a9981d9764c14eb6d64961da400d7d12       1\n",
       "01927e0a1c7a2be3b12a84dd72845554       1\n",
       "f50959db6ebb799a692e9915da7ea1bc       1\n",
       "3d77ed92735534028845c2b20f19571c       1\n",
       "19b98efea98bcd717d85e919b4530513       1\n",
       "ef589b959304e6e9cd883ffa76a2d743       1\n",
       "71300a51d7bfceda94176c9e7f53ba9e       1\n",
       "d398885dbcb127ef3a70c733e8cdccca       1\n",
       "131ff7d7a7fe9c65e16db5772bc5b131       1\n",
       "15e90828f307b2b992762056d1f69959       1\n",
       "42b7752652d213983207f4d5990abd5e       1\n",
       "c1432302c360da5be8eace3b78949fa4       1\n",
       "a66e04475e3705fce4e1d896e23c0848       1\n",
       "f5dd91bd6ffcd60158bc7f2e72a8f953       1\n",
       "ea5a083730d858eff0c729c913c6cf9e       1\n",
       "521a8cbda403fabc0f569bb6e223ad1c       1\n",
       "0fd591023e0e7b39dbb31ad509b332e4       1\n",
       "db76a6b8c65158e4157ca547df79eda6       1\n",
       "26615cda7c26ea964104fbb13d81aa02       1\n",
       "Name: id, Length: 73836, dtype: int64"
      ]
     },
     "execution_count": 82,
     "metadata": {},
     "output_type": "execute_result"
    }
   ],
   "source": [
    "# Set Timeframe\n",
    "\n",
    "pd5 =  file[(file['created_at']>=datetime.date(2014,1,1)) & (file['created_at']<=datetime.date(2014,12,31))]\n",
    "pd6 =  file[(file['created_at']>=datetime.date(2015,1,1)) & (file['created_at']<=datetime.date(2015,12,31))]\n",
    "\n",
    "pd6_ret = pd6[pd6['id'].isin(pd5.id)]\n",
    "pd6_ret['id'].value_counts()\n",
    "\n",
    "# Returning Donors for 2015: 73836"
   ]
  },
  {
   "cell_type": "code",
   "execution_count": 83,
   "metadata": {},
   "outputs": [
    {
     "data": {
      "text/plain": [
       "237db43817f34988f9d543ca518be4ee    2934\n",
       "74f7db06bcd9557d1e992dc029db69cc    2802\n",
       "a1929a1172ad0b3d14bc84f54018c563    2414\n",
       "a0e1d358aa17745ff3d3f4e4909356f3    1952\n",
       "98c4cd327c417683cd76a2ac19fc6254    1727\n",
       "6dd7995a998f79a8c65a0d400c9a5350    1602\n",
       "6f74ffb17cbb2b616b1eef06bd4acd0c    1599\n",
       "0e345dcdef0d2a36c9bd17bf1ac3e10a    1359\n",
       "f37b9ff133242d08658ca2b17b3ab84c    1328\n",
       "eecc14ded80a38f692a590fe80c7b08f    1317\n",
       "1756d766dab5b3cac8f2aa500430f326    1296\n",
       "a7dbf5caa4e885e277e7fb46fc3b795e    1261\n",
       "8cad5d421ba7f4410ed46b5de4ed4feb    1238\n",
       "609e28d99b36d35679ae56268e4dddc3    1210\n",
       "b51c76411b51751f45527c63c69ead9e    1206\n",
       "28601b5d4270c7f42a43bb5a44753d8e    1182\n",
       "fef52f20ea7ecb9a6794b055e00ea4cf    1090\n",
       "67cb61233835275f98075521d5afa420    1067\n",
       "6a35a7514005c04f8520e5d8f7657d91    1043\n",
       "406518edf1c30d599de90e2055a697fc     983\n",
       "83f60be3091501e3af97b20a4eb9cf6f     980\n",
       "75e09805b663bbe4b80b40034c192b4a     978\n",
       "c376c98b0cdb746cf025bb21ee810376     973\n",
       "be833db4f16df25696356b1194a14308     968\n",
       "43ce849972030459730d54013f0228f2     964\n",
       "4416745560343f14a74dedcda4ec03b0     961\n",
       "9d7051e2611cebdb758f1c7bd09360ac     949\n",
       "21b1f0d20fe90350172022563503364c     877\n",
       "df40c0be9e44bfa1bc6f005e9c46bcaa     857\n",
       "1a8fd309463ad0d6603be484c5f90b1d     831\n",
       "                                    ... \n",
       "5ad8af1df3b622e26ee616d57b28e011       1\n",
       "5e9e746714a1d7bb9c71522c2b07fa1f       1\n",
       "856df8ff929a3622926b9a6e783f7acb       1\n",
       "d8439de570122310282e7d53420f013e       1\n",
       "e026979995d9072a9049cca384c65a1c       1\n",
       "43edf1a0b0f8cf6d644c6e3e4d915f35       1\n",
       "3e111bce80a092b4811faa646ec690f3       1\n",
       "265c1fbd5e3857b323891c0300e1f6e6       1\n",
       "8af7d7cdfbb969016d11f9dd17b6edf0       1\n",
       "c00aa62e541d31f0dd1c7143779592b3       1\n",
       "2912b7e105a4e9e46dfaa6c46b416eee       1\n",
       "d47f7862bfc3b59fb6d168240bc97c16       1\n",
       "677fbffa9232a906b45c0b8772407b49       1\n",
       "5b6397a1598ada9b9864620ce41fb04b       1\n",
       "ca240809a3741675d361b4660aec34cd       1\n",
       "fd97c12689ab7a0bd47192a6fa42699c       1\n",
       "749da2df1add8d20ce28944b053a42e5       1\n",
       "ca5ad4057bfb98133c8b176f81225a83       1\n",
       "900371a6175b88ac6e3bdfff5664daae       1\n",
       "3dadf50e93aa165b7114ea168c30adb8       1\n",
       "0af7d49efe799bfb261d663886c949a0       1\n",
       "ae3317b499956e7c1229cdaff5439f0d       1\n",
       "61b7aab8f4d1fd3c820ed9c5afaea8c0       1\n",
       "5d922bd73e05b18e793cd501bb7a8f98       1\n",
       "ae183a03faf5bf49169e5c1a97f282a6       1\n",
       "cc81c843e7d88b4dbaa5cf6c506b99c4       1\n",
       "2a38ffea10e0b93a10ee21de014829a2       1\n",
       "6efaa594b599cbf7919023c553e8185a       1\n",
       "86a27927c1bf68dea25c30a462922e51       1\n",
       "241215327d843e519a979aac73f175b9       1\n",
       "Name: id, Length: 381335, dtype: int64"
      ]
     },
     "execution_count": 83,
     "metadata": {},
     "output_type": "execute_result"
    }
   ],
   "source": [
    "pd5['id'].value_counts()\n",
    "# Number of unique donors: 381335"
   ]
  },
  {
   "cell_type": "code",
   "execution_count": 86,
   "metadata": {},
   "outputs": [
    {
     "data": {
      "text/plain": [
       "19.362502786264045"
      ]
     },
     "execution_count": 86,
     "metadata": {},
     "output_type": "execute_result"
    }
   ],
   "source": [
    "RetRate(381335,73836 )\n"
   ]
  },
  {
   "cell_type": "markdown",
   "metadata": {},
   "source": [
    "# Retention Rate 2014 - 2013"
   ]
  },
  {
   "cell_type": "code",
   "execution_count": 89,
   "metadata": {},
   "outputs": [
    {
     "name": "stderr",
     "output_type": "stream",
     "text": [
      "C:\\ProgramData\\Anaconda3\\lib\\site-packages\\ipykernel_launcher.py:1: FutureWarning: Comparing Series of datetimes with 'datetime.date'.  Currently, the\n",
      "'datetime.date' is coerced to a datetime. In the future pandas will\n",
      "not coerce, and a TypeError will be raised. To retain the current\n",
      "behavior, convert the 'datetime.date' to a datetime with\n",
      "'pd.Timestamp'.\n",
      "  \"\"\"Entry point for launching an IPython kernel.\n",
      "C:\\ProgramData\\Anaconda3\\lib\\site-packages\\ipykernel_launcher.py:2: FutureWarning: Comparing Series of datetimes with 'datetime.date'.  Currently, the\n",
      "'datetime.date' is coerced to a datetime. In the future pandas will\n",
      "not coerce, and a TypeError will be raised. To retain the current\n",
      "behavior, convert the 'datetime.date' to a datetime with\n",
      "'pd.Timestamp'.\n",
      "  \n"
     ]
    },
    {
     "data": {
      "text/plain": [
       "237db43817f34988f9d543ca518be4ee    2934\n",
       "74f7db06bcd9557d1e992dc029db69cc    2802\n",
       "a1929a1172ad0b3d14bc84f54018c563    2414\n",
       "a0e1d358aa17745ff3d3f4e4909356f3    1952\n",
       "98c4cd327c417683cd76a2ac19fc6254    1727\n",
       "6dd7995a998f79a8c65a0d400c9a5350    1602\n",
       "6f74ffb17cbb2b616b1eef06bd4acd0c    1599\n",
       "0e345dcdef0d2a36c9bd17bf1ac3e10a    1359\n",
       "f37b9ff133242d08658ca2b17b3ab84c    1328\n",
       "eecc14ded80a38f692a590fe80c7b08f    1317\n",
       "a7dbf5caa4e885e277e7fb46fc3b795e    1261\n",
       "8cad5d421ba7f4410ed46b5de4ed4feb    1238\n",
       "609e28d99b36d35679ae56268e4dddc3    1210\n",
       "b51c76411b51751f45527c63c69ead9e    1206\n",
       "28601b5d4270c7f42a43bb5a44753d8e    1182\n",
       "fef52f20ea7ecb9a6794b055e00ea4cf    1090\n",
       "67cb61233835275f98075521d5afa420    1067\n",
       "6a35a7514005c04f8520e5d8f7657d91    1043\n",
       "406518edf1c30d599de90e2055a697fc     983\n",
       "83f60be3091501e3af97b20a4eb9cf6f     980\n",
       "75e09805b663bbe4b80b40034c192b4a     978\n",
       "c376c98b0cdb746cf025bb21ee810376     973\n",
       "be833db4f16df25696356b1194a14308     968\n",
       "43ce849972030459730d54013f0228f2     964\n",
       "4416745560343f14a74dedcda4ec03b0     961\n",
       "9d7051e2611cebdb758f1c7bd09360ac     949\n",
       "21b1f0d20fe90350172022563503364c     877\n",
       "df40c0be9e44bfa1bc6f005e9c46bcaa     857\n",
       "1a8fd309463ad0d6603be484c5f90b1d     831\n",
       "e7692ca3a0fe35653c173de80adfc880     815\n",
       "                                    ... \n",
       "a337e5492a1b04d4b404050a84d40680       1\n",
       "64cb908eb2e3fcf5ee7e8564f0321a2f       1\n",
       "13bcb9b1f90579b64ea0710d0b8c7ff5       1\n",
       "e64d08891c9d37e2ebd2c5bac77e3392       1\n",
       "46d11d8b9b202f596a014b33decaf115       1\n",
       "f0b17adc429a0247c24b5f78bb13e016       1\n",
       "0ee92fcb4c1878051361747777fcb846       1\n",
       "399ba4eea860f3a7bec63fb006893e0c       1\n",
       "20f41ad8fffd801dd349b73d378602bf       1\n",
       "d77f6a65660855afa56bb74bbbc4ec5a       1\n",
       "d8bda544fd7510ac4371252581cb2156       1\n",
       "86dd1c1abd6f0935b6112337934d75a7       1\n",
       "ec344dcdd493490df8126843dc3b60b3       1\n",
       "70c4a9dcacde3e164b169eba99ed3ef9       1\n",
       "d6dde7307c1e07a54fb50bb9d7a21453       1\n",
       "407c9cdd86ce87ea3c124b702c4c1fd2       1\n",
       "4fb8a7ce627b719b71c349d9602fa06b       1\n",
       "9fdbd7511762d14a25524e811a39e3a4       1\n",
       "d49c8ef2ea594050191a898da38f03a1       1\n",
       "31d89c534623ee316c1d5542d2d403e4       1\n",
       "0c6836767bf029a41128808237fd96c0       1\n",
       "238a7fc3b7adf640e09f90b4325de8ae       1\n",
       "3c4053216605075985becb550f877e56       1\n",
       "e0865ec0a72ab794545cfe60823100c7       1\n",
       "5fc400e0cecca2e1c5f31bfc404a2332       1\n",
       "93f546ac822811390c8bc455d39dda70       1\n",
       "d855a5fe6215f200589199c51caf780b       1\n",
       "e353647a7920d3524a7409a2fdef440f       1\n",
       "b515b132992e17d005ce0fad6a21b19c       1\n",
       "f522c13620bde578bfef053315e24b27       1\n",
       "Name: id, Length: 61337, dtype: int64"
      ]
     },
     "execution_count": 89,
     "metadata": {},
     "output_type": "execute_result"
    }
   ],
   "source": [
    "pd7 =  file[(file['created_at']>=datetime.date(2013,1,1)) & (file['created_at']<=datetime.date(2013,12,31))]\n",
    "pd8 =  file[(file['created_at']>=datetime.date(2014,1,1)) & (file['created_at']<=datetime.date(2014,12,31))]\n",
    "\n",
    "pd8_ret = pd8[pd8['id'].isin(pd7.id)]\n",
    "pd8_ret['id'].value_counts()\n",
    "\n",
    "#Returning Donors 2014: 61337"
   ]
  },
  {
   "cell_type": "code",
   "execution_count": 90,
   "metadata": {},
   "outputs": [
    {
     "data": {
      "text/plain": [
       "6f74ffb17cbb2b616b1eef06bd4acd0c    7420\n",
       "a0e1d358aa17745ff3d3f4e4909356f3    5312\n",
       "0e345dcdef0d2a36c9bd17bf1ac3e10a    2288\n",
       "237db43817f34988f9d543ca518be4ee    2257\n",
       "a7dbf5caa4e885e277e7fb46fc3b795e    1711\n",
       "a1929a1172ad0b3d14bc84f54018c563    1446\n",
       "03fa60275eb66e873c30ecb86840df4b    1314\n",
       "231415b2ecc9c2baa31f887e88fbb53c    1123\n",
       "af9b7cd6efb4e03ce0b338a4407f76de    1109\n",
       "6cefb47fd0aef74400d5e787f6553e4a    1014\n",
       "43ce849972030459730d54013f0228f2     998\n",
       "83f60be3091501e3af97b20a4eb9cf6f     991\n",
       "9e174833c4d6ac353a9be7838cfa3549     957\n",
       "eecc14ded80a38f692a590fe80c7b08f     857\n",
       "6dd7995a998f79a8c65a0d400c9a5350     853\n",
       "f37b9ff133242d08658ca2b17b3ab84c     846\n",
       "7c6a03f0858c8cff5a877b25ab9394e8     791\n",
       "6a35a7514005c04f8520e5d8f7657d91     753\n",
       "98c4cd327c417683cd76a2ac19fc6254     751\n",
       "6b0f5d973bf3813b31d4309c003133d7     750\n",
       "406518edf1c30d599de90e2055a697fc     748\n",
       "5f24028ffca75dab42968c86dab2855b     728\n",
       "be833db4f16df25696356b1194a14308     687\n",
       "77c9842bc14f44555a5686b80292d6e5     655\n",
       "634b5cc9b2c7b128153e14ea022eddc3     646\n",
       "64b0f4f73626a4607b3e3074e1e2a8cf     646\n",
       "0e01e632606c230914fe73c2d2ccead3     630\n",
       "307e464c2cb8ae44ab54080c3d7947f3     607\n",
       "9d7051e2611cebdb758f1c7bd09360ac     567\n",
       "d24347fdee199ae9395ad44484e1caf7     523\n",
       "                                    ... \n",
       "d9e33d34e2a119f6ae90bf4561cb9477       1\n",
       "d389cd1d3029ac63c4896e076c0b723b       1\n",
       "9218ce92eac85868b8e12c3ed46847d3       1\n",
       "03c31bfcb42cec3002a56e193ad1c376       1\n",
       "1c428782127385109b931c18fa002ad2       1\n",
       "a2691498d008b4cf749f1dc270aa2969       1\n",
       "829bdf503a4c299dd1eed5e91ff110b7       1\n",
       "c037d5ef46fd4247d1cccd81a68cc389       1\n",
       "8dc1a92428671ad271bf2fb03827cd4e       1\n",
       "dbc18f4d9f9a8c3bdbafe5cc0857457e       1\n",
       "df15e02045fb3530896f66ffe4abb154       1\n",
       "fdf6e6e22278646c7a6afe1549f39345       1\n",
       "a62e5439b2157322bda2258beafd4daf       1\n",
       "26e03f5679de3320d0f211e531f90297       1\n",
       "d319833e6d31b65da42f5c81257a92b8       1\n",
       "0751df0ce60a2d450176659a05aa996d       1\n",
       "46198c916b7b59a8ec4c03665c1d8d51       1\n",
       "fbfa88765f0b7daacb8bf22ac1753a8a       1\n",
       "8de6dff968e54ecc986ee38a86a3f51f       1\n",
       "0a0dcc49e6fa83372dc7939693b4ef14       1\n",
       "571f41856e80064dcc6a02fb8ebbf808       1\n",
       "d527748f4cf14d527ff2c4b31353894a       1\n",
       "093cd6dc4ff98cd32c3f415743e30796       1\n",
       "31684c0dd32a25ea04ad811b3a3e903a       1\n",
       "05fcfac289a221388a3ae8a6941a78b0       1\n",
       "5fbd7f8e0ebfe2f72ce2c1eba638d811       1\n",
       "83ee8065a0af8f2a154d60dd2e52157c       1\n",
       "9622135baa45aa7583a359aac6889ce2       1\n",
       "7107c96ca44d87b28cdce1a23fa4f240       1\n",
       "e9d0b1118ad7a34a2d9509615979cd1e       1\n",
       "Name: id, Length: 318699, dtype: int64"
      ]
     },
     "execution_count": 90,
     "metadata": {},
     "output_type": "execute_result"
    }
   ],
   "source": [
    "#Total Donors in 2013\n",
    "pd7['id'].value_counts()"
   ]
  },
  {
   "cell_type": "code",
   "execution_count": 91,
   "metadata": {},
   "outputs": [
    {
     "data": {
      "text/plain": [
       "19.246059761718737"
      ]
     },
     "execution_count": 91,
     "metadata": {},
     "output_type": "execute_result"
    }
   ],
   "source": [
    "RetRate(318699,61337)"
   ]
  },
  {
   "cell_type": "markdown",
   "metadata": {},
   "source": [
    "# Retention Rate: 2013 -2012"
   ]
  },
  {
   "cell_type": "code",
   "execution_count": 94,
   "metadata": {},
   "outputs": [
    {
     "name": "stderr",
     "output_type": "stream",
     "text": [
      "C:\\ProgramData\\Anaconda3\\lib\\site-packages\\ipykernel_launcher.py:1: FutureWarning: Comparing Series of datetimes with 'datetime.date'.  Currently, the\n",
      "'datetime.date' is coerced to a datetime. In the future pandas will\n",
      "not coerce, and a TypeError will be raised. To retain the current\n",
      "behavior, convert the 'datetime.date' to a datetime with\n",
      "'pd.Timestamp'.\n",
      "  \"\"\"Entry point for launching an IPython kernel.\n",
      "C:\\ProgramData\\Anaconda3\\lib\\site-packages\\ipykernel_launcher.py:2: FutureWarning: Comparing Series of datetimes with 'datetime.date'.  Currently, the\n",
      "'datetime.date' is coerced to a datetime. In the future pandas will\n",
      "not coerce, and a TypeError will be raised. To retain the current\n",
      "behavior, convert the 'datetime.date' to a datetime with\n",
      "'pd.Timestamp'.\n",
      "  \n"
     ]
    },
    {
     "data": {
      "text/plain": [
       "6dd7995a998f79a8c65a0d400c9a5350    853\n",
       "4da7df0f928ef65486694170601d5aca      6\n",
       "ed10571590258b1fb6c448c80ca16e79      6\n",
       "cca23670ed0d03bddfcd9c16fa9dacb7      4\n",
       "fcf96e729bf1b03dfbd8f07a3b4ee173      3\n",
       "45c45882b12febaf50ea7d25c464c33c      2\n",
       "f6a779b24eff92e1c60de3a770af1ca2      2\n",
       "e8c8c08db7ebcad5b2e28a9143c926e8      2\n",
       "8ebf7ed8e922aee141da222770577fb6      2\n",
       "ea1db63aa514055a1faa005e4f37df5f      2\n",
       "8d345d4ded01a6c7f3b79e9686dfe741      2\n",
       "18b81dd86b925eb74666e9849c7daf06      2\n",
       "8e7e264e844a1789abe3a92f470c9e30      2\n",
       "0022377355fee1df711808380ecb6636      1\n",
       "a55429f1f9d38496bafa31792e984937      1\n",
       "58a1ba11ab4f4dbe1283e635f799639b      1\n",
       "342a12d6c0ccbf4ae642f73d22a93bd3      1\n",
       "2ec1193b14119b158c1d3bfd67b2940b      1\n",
       "6a83ff917433af99f4c7ae0fab274229      1\n",
       "26e0e6fdf9e79e36d6760d0d96fc56de      1\n",
       "35135b71561a6ce81d2530c1a8e650a4      1\n",
       "2f46f2a396311a0b73d7550a8c945211      1\n",
       "56a1ec4318776fc6d9170aa088b79fe5      1\n",
       "f9f9312786079a621fec74f35ea75606      1\n",
       "e0b23e53055c0175d89ceda0d791a2e5      1\n",
       "d5f65e5241b395aa76d237404ed4608f      1\n",
       "f5241c39d601ab05228d352953cc76af      1\n",
       "7052a3ea47c86c9c6c3e26fdb60e285c      1\n",
       "c06316b294578715653cfd7c0bbe764f      1\n",
       "44a4019db93bddb38a51ac392c07e9e9      1\n",
       "f5c13e4c10889c2d171d955e9908859e      1\n",
       "761e8c40bdc5d17f4c626bd32616c07e      1\n",
       "44f5e8002149cc536599f46eb1a40139      1\n",
       "Name: id, dtype: int64"
      ]
     },
     "execution_count": 94,
     "metadata": {},
     "output_type": "execute_result"
    }
   ],
   "source": [
    "pd9 =  file[(file['created_at']>=datetime.date(2012,1,1)) & (file['created_at']<=datetime.date(2012,12,31))]\n",
    "pd11 =  file[(file['created_at']>=datetime.date(2013,1,1)) & (file['created_at']<=datetime.date(2013,12,31))]\n",
    "\n",
    "pd11_ret = pd11[pd11['id'].isin(pd9.id)]\n",
    "pd11_ret['id'].value_counts()\n",
    "\n",
    "# Returning Donors: 908\n"
   ]
  },
  {
   "cell_type": "code",
   "execution_count": 95,
   "metadata": {},
   "outputs": [
    {
     "data": {
      "text/plain": [
       "6f74ffb17cbb2b616b1eef06bd4acd0c    7420\n",
       "a0e1d358aa17745ff3d3f4e4909356f3    5312\n",
       "0e345dcdef0d2a36c9bd17bf1ac3e10a    2288\n",
       "237db43817f34988f9d543ca518be4ee    2257\n",
       "a7dbf5caa4e885e277e7fb46fc3b795e    1711\n",
       "a1929a1172ad0b3d14bc84f54018c563    1446\n",
       "03fa60275eb66e873c30ecb86840df4b    1314\n",
       "231415b2ecc9c2baa31f887e88fbb53c    1123\n",
       "af9b7cd6efb4e03ce0b338a4407f76de    1109\n",
       "6cefb47fd0aef74400d5e787f6553e4a    1014\n",
       "43ce849972030459730d54013f0228f2     998\n",
       "83f60be3091501e3af97b20a4eb9cf6f     991\n",
       "9e174833c4d6ac353a9be7838cfa3549     957\n",
       "eecc14ded80a38f692a590fe80c7b08f     857\n",
       "6dd7995a998f79a8c65a0d400c9a5350     853\n",
       "f37b9ff133242d08658ca2b17b3ab84c     846\n",
       "7c6a03f0858c8cff5a877b25ab9394e8     791\n",
       "6a35a7514005c04f8520e5d8f7657d91     753\n",
       "98c4cd327c417683cd76a2ac19fc6254     751\n",
       "6b0f5d973bf3813b31d4309c003133d7     750\n",
       "406518edf1c30d599de90e2055a697fc     748\n",
       "5f24028ffca75dab42968c86dab2855b     728\n",
       "be833db4f16df25696356b1194a14308     687\n",
       "77c9842bc14f44555a5686b80292d6e5     655\n",
       "634b5cc9b2c7b128153e14ea022eddc3     646\n",
       "64b0f4f73626a4607b3e3074e1e2a8cf     646\n",
       "0e01e632606c230914fe73c2d2ccead3     630\n",
       "307e464c2cb8ae44ab54080c3d7947f3     607\n",
       "9d7051e2611cebdb758f1c7bd09360ac     567\n",
       "d24347fdee199ae9395ad44484e1caf7     523\n",
       "                                    ... \n",
       "d9e33d34e2a119f6ae90bf4561cb9477       1\n",
       "d389cd1d3029ac63c4896e076c0b723b       1\n",
       "9218ce92eac85868b8e12c3ed46847d3       1\n",
       "03c31bfcb42cec3002a56e193ad1c376       1\n",
       "1c428782127385109b931c18fa002ad2       1\n",
       "a2691498d008b4cf749f1dc270aa2969       1\n",
       "829bdf503a4c299dd1eed5e91ff110b7       1\n",
       "c037d5ef46fd4247d1cccd81a68cc389       1\n",
       "8dc1a92428671ad271bf2fb03827cd4e       1\n",
       "dbc18f4d9f9a8c3bdbafe5cc0857457e       1\n",
       "df15e02045fb3530896f66ffe4abb154       1\n",
       "fdf6e6e22278646c7a6afe1549f39345       1\n",
       "a62e5439b2157322bda2258beafd4daf       1\n",
       "26e03f5679de3320d0f211e531f90297       1\n",
       "d319833e6d31b65da42f5c81257a92b8       1\n",
       "0751df0ce60a2d450176659a05aa996d       1\n",
       "46198c916b7b59a8ec4c03665c1d8d51       1\n",
       "fbfa88765f0b7daacb8bf22ac1753a8a       1\n",
       "8de6dff968e54ecc986ee38a86a3f51f       1\n",
       "0a0dcc49e6fa83372dc7939693b4ef14       1\n",
       "571f41856e80064dcc6a02fb8ebbf808       1\n",
       "d527748f4cf14d527ff2c4b31353894a       1\n",
       "093cd6dc4ff98cd32c3f415743e30796       1\n",
       "31684c0dd32a25ea04ad811b3a3e903a       1\n",
       "05fcfac289a221388a3ae8a6941a78b0       1\n",
       "5fbd7f8e0ebfe2f72ce2c1eba638d811       1\n",
       "83ee8065a0af8f2a154d60dd2e52157c       1\n",
       "9622135baa45aa7583a359aac6889ce2       1\n",
       "7107c96ca44d87b28cdce1a23fa4f240       1\n",
       "e9d0b1118ad7a34a2d9509615979cd1e       1\n",
       "Name: id, Length: 318699, dtype: int64"
      ]
     },
     "execution_count": 95,
     "metadata": {},
     "output_type": "execute_result"
    }
   ],
   "source": [
    "#Total Donors in 2012\n",
    "pd7['id'].value_counts()"
   ]
  },
  {
   "cell_type": "code",
   "execution_count": 96,
   "metadata": {},
   "outputs": [
    {
     "data": {
      "text/plain": [
       "0.28490833043090813"
      ]
     },
     "execution_count": 96,
     "metadata": {},
     "output_type": "execute_result"
    }
   ],
   "source": [
    "RetRate(318699, 908)"
   ]
  },
  {
   "cell_type": "markdown",
   "metadata": {},
   "source": [
    "# Retention Rate 2018 - 2017"
   ]
  },
  {
   "cell_type": "code",
   "execution_count": 108,
   "metadata": {},
   "outputs": [
    {
     "name": "stderr",
     "output_type": "stream",
     "text": [
      "C:\\ProgramData\\Anaconda3\\lib\\site-packages\\ipykernel_launcher.py:1: FutureWarning: Comparing Series of datetimes with 'datetime.date'.  Currently, the\n",
      "'datetime.date' is coerced to a datetime. In the future pandas will\n",
      "not coerce, and a TypeError will be raised. To retain the current\n",
      "behavior, convert the 'datetime.date' to a datetime with\n",
      "'pd.Timestamp'.\n",
      "  \"\"\"Entry point for launching an IPython kernel.\n",
      "C:\\ProgramData\\Anaconda3\\lib\\site-packages\\ipykernel_launcher.py:2: FutureWarning: Comparing Series of datetimes with 'datetime.date'.  Currently, the\n",
      "'datetime.date' is coerced to a datetime. In the future pandas will\n",
      "not coerce, and a TypeError will be raised. To retain the current\n",
      "behavior, convert the 'datetime.date' to a datetime with\n",
      "'pd.Timestamp'.\n",
      "  \n"
     ]
    },
    {
     "data": {
      "text/plain": [
       "24ecca49933c30a0beb83090591720c0    1839\n",
       "0cd96e83a645971f6deb4559262b7688    1713\n",
       "39df9399f5384334a42905bcf0acdcbf    1202\n",
       "237db43817f34988f9d543ca518be4ee    1077\n",
       "0d9c155b27c25fa0dbac617f9507226d     781\n",
       "22f51fc8e5750e45e7a3da489eacfe40     715\n",
       "d006be7223c048ae8b2bdedd7dd2b4db     707\n",
       "3ba8a29e3dd72043f9738c0895733834     587\n",
       "6a35a7514005c04f8520e5d8f7657d91     577\n",
       "4942150e351df37d02b1b1008032d795     564\n",
       "2a53c9f915f6b31a25e174f276f32ae8     501\n",
       "5b5dce6a14c506439466000b50e8d480     482\n",
       "de8b8ed34d1800ca93f7ef480857d872     479\n",
       "f759b44e25b9a2602eed665d0eefc604     462\n",
       "85d28056e20c78af4a1b16dc63394caa     435\n",
       "19f24640d9da49f6f8b4c9938c049591     430\n",
       "b51c76411b51751f45527c63c69ead9e     413\n",
       "ba8071c3de667528d853b3544c1a9179     408\n",
       "86d57a6264726b2a94c5b9663f46330c     407\n",
       "66c30e1da1934d7cfe810ba79f6e04c1     406\n",
       "4a66bd08b25a2ec7e827db68f766a136     398\n",
       "fb961cd43218b42e06852a1e3bf82286     385\n",
       "a299db9679f7746a805fbc300362191d     372\n",
       "e7692ca3a0fe35653c173de80adfc880     362\n",
       "de439434d990e693902fcb68d62d5099     344\n",
       "e6d4108eb74530a3d890845626ca890d     342\n",
       "6dde5d1322e0d11f0b14b094c68d21e2     341\n",
       "103a0723c0fbb87555cb333c75233d99     337\n",
       "75e09805b663bbe4b80b40034c192b4a     327\n",
       "45fc01dcee39b72977fbeef3e03c26c3     324\n",
       "                                    ... \n",
       "5d1d1ee7b2a9ef061e077574dcc3c4ff       1\n",
       "4ddafa6833c509d132a7eb410934211d       1\n",
       "d38e53d7075c34be9ed79e1b5b0ba82c       1\n",
       "36bbf07821fdb05f91bceb67cc1cb122       1\n",
       "3b9a4e5ed7ce584b15d0df8bcaec4e2f       1\n",
       "2025df4fd1af85f96bffa6f518d8d041       1\n",
       "7230c0f6aa7f6dcfaaf87eb535d03018       1\n",
       "5c6924fa9c17566cf1d9040c24df7c75       1\n",
       "e318695950123b5dff36d1987ce19c19       1\n",
       "3d2b21b374eb19cde78f4d5a3cdfe2df       1\n",
       "024f4889d7b6c917e2db802a422a4b6d       1\n",
       "88e0627da740d56ed34e823e7b3be358       1\n",
       "628d18031b42bf5bc2d6db3fe9d7f9a1       1\n",
       "550bcb0c5da95a7db13ff6915a66c75b       1\n",
       "3782a972e1f44c102358fed41d09c7fb       1\n",
       "2525035cd1e51ea92915a4cabe6e0bf5       1\n",
       "38a8a35697c57de4884de176608e29a1       1\n",
       "99dc4b8e9c14bdd73b9dbf195c7c0f49       1\n",
       "a54056495a3f4dbb3f82e53c97309e12       1\n",
       "1a483644f4716909365c3ce8db6f8314       1\n",
       "49448243479009894cc2b2680e439be2       1\n",
       "b58e94a48a780179bd13521d741c9c31       1\n",
       "3f529994a17a719704a623706526834f       1\n",
       "22e5d9796ea5296e3fb91fdd7ca6411a       1\n",
       "785a24e60f715bfde1d832253091e61e       1\n",
       "52754463223ab07cf8eb3fbcf68445dc       1\n",
       "03ed70ba35e560049b8c3cbabb176134       1\n",
       "b52daa19864b1edb6bc4aed5020a14f2       1\n",
       "0577e0203279d72def8f338e75e8e65d       1\n",
       "9f3452c20bc352e8ba4ee0414daaf9a3       1\n",
       "Name: id, Length: 61105, dtype: int64"
      ]
     },
     "execution_count": 108,
     "metadata": {},
     "output_type": "execute_result"
    }
   ],
   "source": [
    "pd13 =  file[(file['created_at']>=datetime.date(2017,1,1)) & (file['created_at']<=datetime.date(2017,12,31))]\n",
    "pd14 =  file[(file['created_at']>=datetime.date(2018,1,1)) & (file['created_at']<=datetime.date(2018,12,31))]\n",
    "\n",
    "pd14_ret = pd14[pd14['id'].isin(pd13.id)]\n",
    "pd14_ret['id'].value_counts()\n",
    "\n"
   ]
  },
  {
   "cell_type": "code",
   "execution_count": 109,
   "metadata": {},
   "outputs": [
    {
     "data": {
      "text/plain": [
       "39df9399f5384334a42905bcf0acdcbf    13746\n",
       "237db43817f34988f9d543ca518be4ee     3932\n",
       "24ecca49933c30a0beb83090591720c0     3821\n",
       "0cd96e83a645971f6deb4559262b7688     2475\n",
       "de8b8ed34d1800ca93f7ef480857d872     2150\n",
       "4942150e351df37d02b1b1008032d795     1775\n",
       "0d9c155b27c25fa0dbac617f9507226d     1574\n",
       "a299db9679f7746a805fbc300362191d     1455\n",
       "a949a2ed73b13adb7a63fbc8ea90f6dc     1435\n",
       "f4e59466422bf084792071a849284771     1343\n",
       "6a35a7514005c04f8520e5d8f7657d91     1339\n",
       "f9dd79ea006fee7bb4a5cc8473d8656c     1272\n",
       "19f24640d9da49f6f8b4c9938c049591     1269\n",
       "d006be7223c048ae8b2bdedd7dd2b4db     1246\n",
       "fb961cd43218b42e06852a1e3bf82286     1202\n",
       "22f51fc8e5750e45e7a3da489eacfe40     1137\n",
       "4416745560343f14a74dedcda4ec03b0     1114\n",
       "66c30e1da1934d7cfe810ba79f6e04c1      968\n",
       "3ba8a29e3dd72043f9738c0895733834      966\n",
       "b51c76411b51751f45527c63c69ead9e      959\n",
       "1be8ff2501f21dbe85a2fc87afb641e8      875\n",
       "544eea257f2154d79dab2f7119f11af2      858\n",
       "c376c98b0cdb746cf025bb21ee810376      845\n",
       "a747520b8d27d36d2f929f2b12e243ab      844\n",
       "86d57a6264726b2a94c5b9663f46330c      827\n",
       "ebf4949aa3d2a10c7518ce1b348d9f0f      819\n",
       "b02e6d6a11f2fecbfead6fdbfb6664ff      793\n",
       "560970c7a82523f66d4977d02db20dcc      775\n",
       "75e09805b663bbe4b80b40034c192b4a      771\n",
       "2dd5ef5f3acc58a4bc71871e53263d62      730\n",
       "                                    ...  \n",
       "e3d470cc01f3a4191a624db0573d60e4        1\n",
       "00a39f123badbe41fc0a99f5338bbdc1        1\n",
       "cf790d5f365e5c9d063cfcf4accafab5        1\n",
       "ac391569b0979e5892928d2aae2c7860        1\n",
       "22d265267da2ba387c3f8e290ae3499f        1\n",
       "e37d78eb199de549a04e4d422013a597        1\n",
       "bb380c8aac0ba667b83d01a2b5185e03        1\n",
       "59c10bf9ad93ce3809b61d3ab0fe1105        1\n",
       "25c62231e9bfc477b53d375d547149b1        1\n",
       "a0b699ed03ef38bcc331a12e310429a7        1\n",
       "f5639cd333dea8a2182d4e135a2d561e        1\n",
       "7ab442deb4da59cc86a7997320b89bf8        1\n",
       "428dd9d0847200cc6a646dbd7973b2b5        1\n",
       "848585a9677a7fec08fb3baacc3d3fd8        1\n",
       "64f12f92cc76eb0f2bf3948f0e48439b        1\n",
       "29645fdbd8a11d65f7e76a77f102db60        1\n",
       "f336edb69fd31a11a52d624346850d9a        1\n",
       "91218509acf7f511bad8c2dcaf8d7934        1\n",
       "568c05b52d5dd021d38a0e3871a17200        1\n",
       "b994f52b1fbb83fedf4d2e7151ece40f        1\n",
       "2f1ae1084d3c1e536a06157bb2308fda        1\n",
       "1be5313b8c6a5eafaa7b71f5901eb64b        1\n",
       "e0fe5afe943333f1da4b7e631fd524c7        1\n",
       "57b2e0d266a90d4e14e8b69b7c09424d        1\n",
       "184eb0e198161813470a1422a046d9e2        1\n",
       "49cfbc4db69b1cdcd90e16dc70dc2dc8        1\n",
       "2e94aa2765e1363fe903a8f0e982d1da        1\n",
       "eba6ca34c9a787e0a770bd91bd90a918        1\n",
       "f2da0f0830184f6579ca77b7b74298cf        1\n",
       "0e58fddfe4c8526becaafa787502b5aa        1\n",
       "Name: id, Length: 573042, dtype: int64"
      ]
     },
     "execution_count": 109,
     "metadata": {},
     "output_type": "execute_result"
    }
   ],
   "source": [
    "#Total Donors in 2017\n",
    "pd13['id'].value_counts()"
   ]
  },
  {
   "cell_type": "code",
   "execution_count": 110,
   "metadata": {},
   "outputs": [
    {
     "data": {
      "text/plain": [
       "10.663267264877618"
      ]
     },
     "execution_count": 110,
     "metadata": {},
     "output_type": "execute_result"
    }
   ],
   "source": [
    "RetRate( 573042,  61105)"
   ]
  },
  {
   "cell_type": "code",
   "execution_count": null,
   "metadata": {},
   "outputs": [],
   "source": []
  },
  {
   "cell_type": "code",
   "execution_count": null,
   "metadata": {},
   "outputs": [],
   "source": []
  },
  {
   "cell_type": "code",
   "execution_count": null,
   "metadata": {},
   "outputs": [],
   "source": []
  },
  {
   "cell_type": "code",
   "execution_count": null,
   "metadata": {},
   "outputs": [],
   "source": []
  },
  {
   "cell_type": "code",
   "execution_count": null,
   "metadata": {},
   "outputs": [],
   "source": []
  },
  {
   "cell_type": "code",
   "execution_count": null,
   "metadata": {},
   "outputs": [],
   "source": []
  },
  {
   "cell_type": "code",
   "execution_count": 114,
   "metadata": {},
   "outputs": [
    {
     "data": {
      "text/html": [
       "<div>\n",
       "<style scoped>\n",
       "    .dataframe tbody tr th:only-of-type {\n",
       "        vertical-align: middle;\n",
       "    }\n",
       "\n",
       "    .dataframe tbody tr th {\n",
       "        vertical-align: top;\n",
       "    }\n",
       "\n",
       "    .dataframe thead th {\n",
       "        text-align: right;\n",
       "    }\n",
       "</style>\n",
       "<table border=\"1\" class=\"dataframe\">\n",
       "  <thead>\n",
       "    <tr style=\"text-align: right;\">\n",
       "      <th></th>\n",
       "      <th>id</th>\n",
       "      <th>created_at</th>\n",
       "      <th>amount</th>\n",
       "    </tr>\n",
       "  </thead>\n",
       "  <tbody>\n",
       "    <tr>\n",
       "      <th>221790</th>\n",
       "      <td>0c796f4db2c7adc93db6969153616cdc</td>\n",
       "      <td>2018-02-24 12:34:33</td>\n",
       "      <td>17777.50</td>\n",
       "    </tr>\n",
       "    <tr>\n",
       "      <th>620628</th>\n",
       "      <td>2144d56b1947ebb26a19e7f1d07c970a</td>\n",
       "      <td>2015-08-25 10:40:09</td>\n",
       "      <td>19588.38</td>\n",
       "    </tr>\n",
       "    <tr>\n",
       "      <th>854552</th>\n",
       "      <td>2d5f989570f391c688b0823967f02689</td>\n",
       "      <td>2016-02-25 10:50:16</td>\n",
       "      <td>16159.74</td>\n",
       "    </tr>\n",
       "    <tr>\n",
       "      <th>854553</th>\n",
       "      <td>2d5f989570f391c688b0823967f02689</td>\n",
       "      <td>2016-03-08 14:49:53</td>\n",
       "      <td>16659.74</td>\n",
       "    </tr>\n",
       "    <tr>\n",
       "      <th>947603</th>\n",
       "      <td>328eddaccd2f15ab18441d39102a2680</td>\n",
       "      <td>2017-01-04 00:00:32</td>\n",
       "      <td>15000.00</td>\n",
       "    </tr>\n",
       "    <tr>\n",
       "      <th>977636</th>\n",
       "      <td>34693cc3c55e19494f4c69fe335eca17</td>\n",
       "      <td>2013-05-08 15:59:27</td>\n",
       "      <td>17644.85</td>\n",
       "    </tr>\n",
       "    <tr>\n",
       "      <th>1326278</th>\n",
       "      <td>46bef03dfe2742079289cd67a26a8d27</td>\n",
       "      <td>2013-07-26 21:09:13</td>\n",
       "      <td>26369.03</td>\n",
       "    </tr>\n",
       "    <tr>\n",
       "      <th>1686336</th>\n",
       "      <td>5aae045f65ce626b6c56b1d1f974fbf1</td>\n",
       "      <td>2013-08-22 22:05:05</td>\n",
       "      <td>21299.95</td>\n",
       "    </tr>\n",
       "    <tr>\n",
       "      <th>2006897</th>\n",
       "      <td>6c338eb8b8d6fde2f0d4d3b5277ed4c9</td>\n",
       "      <td>2015-07-16 13:13:59</td>\n",
       "      <td>16981.78</td>\n",
       "    </tr>\n",
       "    <tr>\n",
       "      <th>2226870</th>\n",
       "      <td>7779c0b3af936b7f8f6953f06882c094</td>\n",
       "      <td>2017-11-28 20:48:08</td>\n",
       "      <td>15000.00</td>\n",
       "    </tr>\n",
       "    <tr>\n",
       "      <th>2226872</th>\n",
       "      <td>7779c0b3af936b7f8f6953f06882c094</td>\n",
       "      <td>2018-01-25 06:41:08</td>\n",
       "      <td>20000.00</td>\n",
       "    </tr>\n",
       "    <tr>\n",
       "      <th>2657224</th>\n",
       "      <td>8f70fc7370842e0709cd9af3d29b4b0b</td>\n",
       "      <td>2013-04-25 14:25:57</td>\n",
       "      <td>60000.00</td>\n",
       "    </tr>\n",
       "    <tr>\n",
       "      <th>2849161</th>\n",
       "      <td>9a79dcb3a980763adeaa274156d5aa99</td>\n",
       "      <td>2013-10-17 11:31:09</td>\n",
       "      <td>21295.72</td>\n",
       "    </tr>\n",
       "    <tr>\n",
       "      <th>2929360</th>\n",
       "      <td>9ed16d0f5679c71875f7f82abf04c97c</td>\n",
       "      <td>2013-09-02 22:58:38</td>\n",
       "      <td>19269.51</td>\n",
       "    </tr>\n",
       "    <tr>\n",
       "      <th>3350593</th>\n",
       "      <td>b51a1b79ce091021e909fde33c5e5810</td>\n",
       "      <td>2017-11-15 13:18:34</td>\n",
       "      <td>25000.00</td>\n",
       "    </tr>\n",
       "    <tr>\n",
       "      <th>3408107</th>\n",
       "      <td>b802c941986ae91fdf0beabb1e35e1a9</td>\n",
       "      <td>2017-03-02 16:18:46</td>\n",
       "      <td>31856.60</td>\n",
       "    </tr>\n",
       "    <tr>\n",
       "      <th>3607308</th>\n",
       "      <td>c359757201cde60df7c003a1b365cd5e</td>\n",
       "      <td>2015-07-15 11:42:15</td>\n",
       "      <td>17400.00</td>\n",
       "    </tr>\n",
       "    <tr>\n",
       "      <th>3916024</th>\n",
       "      <td>d4e6cb5bafcf403935a56a5e562d6dce</td>\n",
       "      <td>2012-12-17 19:18:40</td>\n",
       "      <td>15600.00</td>\n",
       "    </tr>\n",
       "    <tr>\n",
       "      <th>4427014</th>\n",
       "      <td>f1d16f7117f774dcabd2157858081b27</td>\n",
       "      <td>2014-09-29 09:08:40</td>\n",
       "      <td>17647.32</td>\n",
       "    </tr>\n",
       "  </tbody>\n",
       "</table>\n",
       "</div>"
      ],
      "text/plain": [
       "                                       id          created_at    amount\n",
       "221790   0c796f4db2c7adc93db6969153616cdc 2018-02-24 12:34:33  17777.50\n",
       "620628   2144d56b1947ebb26a19e7f1d07c970a 2015-08-25 10:40:09  19588.38\n",
       "854552   2d5f989570f391c688b0823967f02689 2016-02-25 10:50:16  16159.74\n",
       "854553   2d5f989570f391c688b0823967f02689 2016-03-08 14:49:53  16659.74\n",
       "947603   328eddaccd2f15ab18441d39102a2680 2017-01-04 00:00:32  15000.00\n",
       "977636   34693cc3c55e19494f4c69fe335eca17 2013-05-08 15:59:27  17644.85\n",
       "1326278  46bef03dfe2742079289cd67a26a8d27 2013-07-26 21:09:13  26369.03\n",
       "1686336  5aae045f65ce626b6c56b1d1f974fbf1 2013-08-22 22:05:05  21299.95\n",
       "2006897  6c338eb8b8d6fde2f0d4d3b5277ed4c9 2015-07-16 13:13:59  16981.78\n",
       "2226870  7779c0b3af936b7f8f6953f06882c094 2017-11-28 20:48:08  15000.00\n",
       "2226872  7779c0b3af936b7f8f6953f06882c094 2018-01-25 06:41:08  20000.00\n",
       "2657224  8f70fc7370842e0709cd9af3d29b4b0b 2013-04-25 14:25:57  60000.00\n",
       "2849161  9a79dcb3a980763adeaa274156d5aa99 2013-10-17 11:31:09  21295.72\n",
       "2929360  9ed16d0f5679c71875f7f82abf04c97c 2013-09-02 22:58:38  19269.51\n",
       "3350593  b51a1b79ce091021e909fde33c5e5810 2017-11-15 13:18:34  25000.00\n",
       "3408107  b802c941986ae91fdf0beabb1e35e1a9 2017-03-02 16:18:46  31856.60\n",
       "3607308  c359757201cde60df7c003a1b365cd5e 2015-07-15 11:42:15  17400.00\n",
       "3916024  d4e6cb5bafcf403935a56a5e562d6dce 2012-12-17 19:18:40  15600.00\n",
       "4427014  f1d16f7117f774dcabd2157858081b27 2014-09-29 09:08:40  17647.32"
      ]
     },
     "execution_count": 114,
     "metadata": {},
     "output_type": "execute_result"
    }
   ],
   "source": [
    "high = file[file.amount >= 15000]\n",
    "high"
   ]
  },
  {
   "cell_type": "code",
   "execution_count": 102,
   "metadata": {},
   "outputs": [
    {
     "data": {
      "text/html": [
       "<div>\n",
       "<style scoped>\n",
       "    .dataframe tbody tr th:only-of-type {\n",
       "        vertical-align: middle;\n",
       "    }\n",
       "\n",
       "    .dataframe tbody tr th {\n",
       "        vertical-align: top;\n",
       "    }\n",
       "\n",
       "    .dataframe thead th {\n",
       "        text-align: right;\n",
       "    }\n",
       "</style>\n",
       "<table border=\"1\" class=\"dataframe\">\n",
       "  <thead>\n",
       "    <tr style=\"text-align: right;\">\n",
       "      <th></th>\n",
       "      <th>id</th>\n",
       "      <th>created_at</th>\n",
       "      <th>amount</th>\n",
       "    </tr>\n",
       "  </thead>\n",
       "  <tbody>\n",
       "    <tr>\n",
       "      <th>2657211</th>\n",
       "      <td>8f70fc7370842e0709cd9af3d29b4b0b</td>\n",
       "      <td>2013-01-03 20:13:20</td>\n",
       "      <td>314.81</td>\n",
       "    </tr>\n",
       "    <tr>\n",
       "      <th>2657212</th>\n",
       "      <td>8f70fc7370842e0709cd9af3d29b4b0b</td>\n",
       "      <td>2013-01-05 12:10:51</td>\n",
       "      <td>173.67</td>\n",
       "    </tr>\n",
       "    <tr>\n",
       "      <th>2657213</th>\n",
       "      <td>8f70fc7370842e0709cd9af3d29b4b0b</td>\n",
       "      <td>2013-01-09 06:13:42</td>\n",
       "      <td>69.45</td>\n",
       "    </tr>\n",
       "    <tr>\n",
       "      <th>2657214</th>\n",
       "      <td>8f70fc7370842e0709cd9af3d29b4b0b</td>\n",
       "      <td>2013-01-10 20:36:51</td>\n",
       "      <td>185.96</td>\n",
       "    </tr>\n",
       "    <tr>\n",
       "      <th>2657215</th>\n",
       "      <td>8f70fc7370842e0709cd9af3d29b4b0b</td>\n",
       "      <td>2013-01-25 21:39:18</td>\n",
       "      <td>921.51</td>\n",
       "    </tr>\n",
       "    <tr>\n",
       "      <th>2657216</th>\n",
       "      <td>8f70fc7370842e0709cd9af3d29b4b0b</td>\n",
       "      <td>2013-02-02 16:12:11</td>\n",
       "      <td>404.53</td>\n",
       "    </tr>\n",
       "    <tr>\n",
       "      <th>2657217</th>\n",
       "      <td>8f70fc7370842e0709cd9af3d29b4b0b</td>\n",
       "      <td>2013-02-19 15:47:14</td>\n",
       "      <td>485.79</td>\n",
       "    </tr>\n",
       "    <tr>\n",
       "      <th>2657218</th>\n",
       "      <td>8f70fc7370842e0709cd9af3d29b4b0b</td>\n",
       "      <td>2013-03-01 19:25:25</td>\n",
       "      <td>639.59</td>\n",
       "    </tr>\n",
       "    <tr>\n",
       "      <th>2657219</th>\n",
       "      <td>8f70fc7370842e0709cd9af3d29b4b0b</td>\n",
       "      <td>2013-04-01 16:25:54</td>\n",
       "      <td>1499.45</td>\n",
       "    </tr>\n",
       "    <tr>\n",
       "      <th>2657220</th>\n",
       "      <td>8f70fc7370842e0709cd9af3d29b4b0b</td>\n",
       "      <td>2013-04-09 21:33:03</td>\n",
       "      <td>268.41</td>\n",
       "    </tr>\n",
       "    <tr>\n",
       "      <th>2657221</th>\n",
       "      <td>8f70fc7370842e0709cd9af3d29b4b0b</td>\n",
       "      <td>2013-04-10 19:21:13</td>\n",
       "      <td>145.35</td>\n",
       "    </tr>\n",
       "    <tr>\n",
       "      <th>2657222</th>\n",
       "      <td>8f70fc7370842e0709cd9af3d29b4b0b</td>\n",
       "      <td>2013-04-10 19:21:14</td>\n",
       "      <td>181.41</td>\n",
       "    </tr>\n",
       "    <tr>\n",
       "      <th>2657223</th>\n",
       "      <td>8f70fc7370842e0709cd9af3d29b4b0b</td>\n",
       "      <td>2013-04-10 19:21:15</td>\n",
       "      <td>565.85</td>\n",
       "    </tr>\n",
       "    <tr>\n",
       "      <th>2657224</th>\n",
       "      <td>8f70fc7370842e0709cd9af3d29b4b0b</td>\n",
       "      <td>2013-04-25 14:25:57</td>\n",
       "      <td>60000.00</td>\n",
       "    </tr>\n",
       "    <tr>\n",
       "      <th>2657225</th>\n",
       "      <td>8f70fc7370842e0709cd9af3d29b4b0b</td>\n",
       "      <td>2013-04-29 00:59:49</td>\n",
       "      <td>473.46</td>\n",
       "    </tr>\n",
       "    <tr>\n",
       "      <th>2657226</th>\n",
       "      <td>8f70fc7370842e0709cd9af3d29b4b0b</td>\n",
       "      <td>2013-04-30 13:34:16</td>\n",
       "      <td>4728.69</td>\n",
       "    </tr>\n",
       "    <tr>\n",
       "      <th>2657227</th>\n",
       "      <td>8f70fc7370842e0709cd9af3d29b4b0b</td>\n",
       "      <td>2013-05-05 13:40:05</td>\n",
       "      <td>197.21</td>\n",
       "    </tr>\n",
       "    <tr>\n",
       "      <th>2657228</th>\n",
       "      <td>8f70fc7370842e0709cd9af3d29b4b0b</td>\n",
       "      <td>2013-05-08 12:30:34</td>\n",
       "      <td>5000.00</td>\n",
       "    </tr>\n",
       "    <tr>\n",
       "      <th>2657229</th>\n",
       "      <td>8f70fc7370842e0709cd9af3d29b4b0b</td>\n",
       "      <td>2013-05-10 21:24:38</td>\n",
       "      <td>1279.47</td>\n",
       "    </tr>\n",
       "    <tr>\n",
       "      <th>2657230</th>\n",
       "      <td>8f70fc7370842e0709cd9af3d29b4b0b</td>\n",
       "      <td>2013-05-12 02:56:13</td>\n",
       "      <td>507.58</td>\n",
       "    </tr>\n",
       "    <tr>\n",
       "      <th>2657231</th>\n",
       "      <td>8f70fc7370842e0709cd9af3d29b4b0b</td>\n",
       "      <td>2013-05-12 19:39:53</td>\n",
       "      <td>223.59</td>\n",
       "    </tr>\n",
       "    <tr>\n",
       "      <th>2657232</th>\n",
       "      <td>8f70fc7370842e0709cd9af3d29b4b0b</td>\n",
       "      <td>2013-05-12 19:39:53</td>\n",
       "      <td>930.45</td>\n",
       "    </tr>\n",
       "    <tr>\n",
       "      <th>2657233</th>\n",
       "      <td>8f70fc7370842e0709cd9af3d29b4b0b</td>\n",
       "      <td>2013-05-15 00:45:25</td>\n",
       "      <td>559.62</td>\n",
       "    </tr>\n",
       "    <tr>\n",
       "      <th>2657234</th>\n",
       "      <td>8f70fc7370842e0709cd9af3d29b4b0b</td>\n",
       "      <td>2013-05-18 09:25:25</td>\n",
       "      <td>997.56</td>\n",
       "    </tr>\n",
       "    <tr>\n",
       "      <th>2657235</th>\n",
       "      <td>8f70fc7370842e0709cd9af3d29b4b0b</td>\n",
       "      <td>2013-05-18 09:30:44</td>\n",
       "      <td>156.11</td>\n",
       "    </tr>\n",
       "    <tr>\n",
       "      <th>2657236</th>\n",
       "      <td>8f70fc7370842e0709cd9af3d29b4b0b</td>\n",
       "      <td>2013-05-18 09:30:44</td>\n",
       "      <td>193.64</td>\n",
       "    </tr>\n",
       "    <tr>\n",
       "      <th>2657237</th>\n",
       "      <td>8f70fc7370842e0709cd9af3d29b4b0b</td>\n",
       "      <td>2013-05-20 07:39:17</td>\n",
       "      <td>1000.00</td>\n",
       "    </tr>\n",
       "    <tr>\n",
       "      <th>2657238</th>\n",
       "      <td>8f70fc7370842e0709cd9af3d29b4b0b</td>\n",
       "      <td>2013-05-24 15:30:05</td>\n",
       "      <td>259.49</td>\n",
       "    </tr>\n",
       "    <tr>\n",
       "      <th>2657239</th>\n",
       "      <td>8f70fc7370842e0709cd9af3d29b4b0b</td>\n",
       "      <td>2013-05-27 18:13:32</td>\n",
       "      <td>858.72</td>\n",
       "    </tr>\n",
       "    <tr>\n",
       "      <th>2657240</th>\n",
       "      <td>8f70fc7370842e0709cd9af3d29b4b0b</td>\n",
       "      <td>2013-05-30 15:30:02</td>\n",
       "      <td>374.20</td>\n",
       "    </tr>\n",
       "    <tr>\n",
       "      <th>...</th>\n",
       "      <td>...</td>\n",
       "      <td>...</td>\n",
       "      <td>...</td>\n",
       "    </tr>\n",
       "    <tr>\n",
       "      <th>2657404</th>\n",
       "      <td>8f70fc7370842e0709cd9af3d29b4b0b</td>\n",
       "      <td>2015-03-07 18:16:42</td>\n",
       "      <td>1222.13</td>\n",
       "    </tr>\n",
       "    <tr>\n",
       "      <th>2657405</th>\n",
       "      <td>8f70fc7370842e0709cd9af3d29b4b0b</td>\n",
       "      <td>2015-03-07 18:16:42</td>\n",
       "      <td>629.09</td>\n",
       "    </tr>\n",
       "    <tr>\n",
       "      <th>2657406</th>\n",
       "      <td>8f70fc7370842e0709cd9af3d29b4b0b</td>\n",
       "      <td>2015-03-20 23:03:02</td>\n",
       "      <td>866.26</td>\n",
       "    </tr>\n",
       "    <tr>\n",
       "      <th>2657407</th>\n",
       "      <td>8f70fc7370842e0709cd9af3d29b4b0b</td>\n",
       "      <td>2015-03-21 01:55:14</td>\n",
       "      <td>304.62</td>\n",
       "    </tr>\n",
       "    <tr>\n",
       "      <th>2657408</th>\n",
       "      <td>8f70fc7370842e0709cd9af3d29b4b0b</td>\n",
       "      <td>2015-03-29 17:50:31</td>\n",
       "      <td>924.08</td>\n",
       "    </tr>\n",
       "    <tr>\n",
       "      <th>2657409</th>\n",
       "      <td>8f70fc7370842e0709cd9af3d29b4b0b</td>\n",
       "      <td>2015-06-15 23:42:28</td>\n",
       "      <td>287.80</td>\n",
       "    </tr>\n",
       "    <tr>\n",
       "      <th>2657410</th>\n",
       "      <td>8f70fc7370842e0709cd9af3d29b4b0b</td>\n",
       "      <td>2015-06-15 23:42:28</td>\n",
       "      <td>323.04</td>\n",
       "    </tr>\n",
       "    <tr>\n",
       "      <th>2657411</th>\n",
       "      <td>8f70fc7370842e0709cd9af3d29b4b0b</td>\n",
       "      <td>2015-06-15 23:42:28</td>\n",
       "      <td>437.08</td>\n",
       "    </tr>\n",
       "    <tr>\n",
       "      <th>2657412</th>\n",
       "      <td>8f70fc7370842e0709cd9af3d29b4b0b</td>\n",
       "      <td>2015-06-15 23:42:29</td>\n",
       "      <td>280.59</td>\n",
       "    </tr>\n",
       "    <tr>\n",
       "      <th>2657413</th>\n",
       "      <td>8f70fc7370842e0709cd9af3d29b4b0b</td>\n",
       "      <td>2015-06-15 23:42:29</td>\n",
       "      <td>291.65</td>\n",
       "    </tr>\n",
       "    <tr>\n",
       "      <th>2657414</th>\n",
       "      <td>8f70fc7370842e0709cd9af3d29b4b0b</td>\n",
       "      <td>2015-06-15 23:42:29</td>\n",
       "      <td>403.67</td>\n",
       "    </tr>\n",
       "    <tr>\n",
       "      <th>2657415</th>\n",
       "      <td>8f70fc7370842e0709cd9af3d29b4b0b</td>\n",
       "      <td>2015-06-17 09:27:04</td>\n",
       "      <td>417.94</td>\n",
       "    </tr>\n",
       "    <tr>\n",
       "      <th>2657416</th>\n",
       "      <td>8f70fc7370842e0709cd9af3d29b4b0b</td>\n",
       "      <td>2015-06-17 09:27:05</td>\n",
       "      <td>1122.62</td>\n",
       "    </tr>\n",
       "    <tr>\n",
       "      <th>2657417</th>\n",
       "      <td>8f70fc7370842e0709cd9af3d29b4b0b</td>\n",
       "      <td>2015-06-17 09:27:05</td>\n",
       "      <td>252.72</td>\n",
       "    </tr>\n",
       "    <tr>\n",
       "      <th>2657418</th>\n",
       "      <td>8f70fc7370842e0709cd9af3d29b4b0b</td>\n",
       "      <td>2015-06-17 19:55:13</td>\n",
       "      <td>1025.28</td>\n",
       "    </tr>\n",
       "    <tr>\n",
       "      <th>2657419</th>\n",
       "      <td>8f70fc7370842e0709cd9af3d29b4b0b</td>\n",
       "      <td>2015-06-17 19:55:13</td>\n",
       "      <td>2179.45</td>\n",
       "    </tr>\n",
       "    <tr>\n",
       "      <th>2657420</th>\n",
       "      <td>8f70fc7370842e0709cd9af3d29b4b0b</td>\n",
       "      <td>2015-06-18 23:14:36</td>\n",
       "      <td>1866.72</td>\n",
       "    </tr>\n",
       "    <tr>\n",
       "      <th>2657421</th>\n",
       "      <td>8f70fc7370842e0709cd9af3d29b4b0b</td>\n",
       "      <td>2015-06-21 13:43:33</td>\n",
       "      <td>985.25</td>\n",
       "    </tr>\n",
       "    <tr>\n",
       "      <th>2657422</th>\n",
       "      <td>8f70fc7370842e0709cd9af3d29b4b0b</td>\n",
       "      <td>2015-06-21 13:52:04</td>\n",
       "      <td>1776.46</td>\n",
       "    </tr>\n",
       "    <tr>\n",
       "      <th>2657423</th>\n",
       "      <td>8f70fc7370842e0709cd9af3d29b4b0b</td>\n",
       "      <td>2015-06-21 13:52:05</td>\n",
       "      <td>988.35</td>\n",
       "    </tr>\n",
       "    <tr>\n",
       "      <th>2657424</th>\n",
       "      <td>8f70fc7370842e0709cd9af3d29b4b0b</td>\n",
       "      <td>2015-07-20 04:17:04</td>\n",
       "      <td>500.00</td>\n",
       "    </tr>\n",
       "    <tr>\n",
       "      <th>2657425</th>\n",
       "      <td>8f70fc7370842e0709cd9af3d29b4b0b</td>\n",
       "      <td>2015-08-17 14:32:37</td>\n",
       "      <td>464.32</td>\n",
       "    </tr>\n",
       "    <tr>\n",
       "      <th>2657426</th>\n",
       "      <td>8f70fc7370842e0709cd9af3d29b4b0b</td>\n",
       "      <td>2015-08-17 14:32:38</td>\n",
       "      <td>129.97</td>\n",
       "    </tr>\n",
       "    <tr>\n",
       "      <th>2657427</th>\n",
       "      <td>8f70fc7370842e0709cd9af3d29b4b0b</td>\n",
       "      <td>2015-08-17 15:47:29</td>\n",
       "      <td>217.69</td>\n",
       "    </tr>\n",
       "    <tr>\n",
       "      <th>2657428</th>\n",
       "      <td>8f70fc7370842e0709cd9af3d29b4b0b</td>\n",
       "      <td>2015-08-17 15:47:29</td>\n",
       "      <td>365.44</td>\n",
       "    </tr>\n",
       "    <tr>\n",
       "      <th>2657429</th>\n",
       "      <td>8f70fc7370842e0709cd9af3d29b4b0b</td>\n",
       "      <td>2015-10-27 00:42:52</td>\n",
       "      <td>306.12</td>\n",
       "    </tr>\n",
       "    <tr>\n",
       "      <th>2657430</th>\n",
       "      <td>8f70fc7370842e0709cd9af3d29b4b0b</td>\n",
       "      <td>2015-10-27 00:42:52</td>\n",
       "      <td>78.98</td>\n",
       "    </tr>\n",
       "    <tr>\n",
       "      <th>2657431</th>\n",
       "      <td>8f70fc7370842e0709cd9af3d29b4b0b</td>\n",
       "      <td>2016-01-23 21:40:02</td>\n",
       "      <td>250.00</td>\n",
       "    </tr>\n",
       "    <tr>\n",
       "      <th>2657432</th>\n",
       "      <td>8f70fc7370842e0709cd9af3d29b4b0b</td>\n",
       "      <td>2016-03-11 02:55:56</td>\n",
       "      <td>30.94</td>\n",
       "    </tr>\n",
       "    <tr>\n",
       "      <th>2657433</th>\n",
       "      <td>8f70fc7370842e0709cd9af3d29b4b0b</td>\n",
       "      <td>2016-03-11 02:59:08</td>\n",
       "      <td>1004.32</td>\n",
       "    </tr>\n",
       "  </tbody>\n",
       "</table>\n",
       "<p>223 rows × 3 columns</p>\n",
       "</div>"
      ],
      "text/plain": [
       "                                       id          created_at    amount\n",
       "2657211  8f70fc7370842e0709cd9af3d29b4b0b 2013-01-03 20:13:20    314.81\n",
       "2657212  8f70fc7370842e0709cd9af3d29b4b0b 2013-01-05 12:10:51    173.67\n",
       "2657213  8f70fc7370842e0709cd9af3d29b4b0b 2013-01-09 06:13:42     69.45\n",
       "2657214  8f70fc7370842e0709cd9af3d29b4b0b 2013-01-10 20:36:51    185.96\n",
       "2657215  8f70fc7370842e0709cd9af3d29b4b0b 2013-01-25 21:39:18    921.51\n",
       "2657216  8f70fc7370842e0709cd9af3d29b4b0b 2013-02-02 16:12:11    404.53\n",
       "2657217  8f70fc7370842e0709cd9af3d29b4b0b 2013-02-19 15:47:14    485.79\n",
       "2657218  8f70fc7370842e0709cd9af3d29b4b0b 2013-03-01 19:25:25    639.59\n",
       "2657219  8f70fc7370842e0709cd9af3d29b4b0b 2013-04-01 16:25:54   1499.45\n",
       "2657220  8f70fc7370842e0709cd9af3d29b4b0b 2013-04-09 21:33:03    268.41\n",
       "2657221  8f70fc7370842e0709cd9af3d29b4b0b 2013-04-10 19:21:13    145.35\n",
       "2657222  8f70fc7370842e0709cd9af3d29b4b0b 2013-04-10 19:21:14    181.41\n",
       "2657223  8f70fc7370842e0709cd9af3d29b4b0b 2013-04-10 19:21:15    565.85\n",
       "2657224  8f70fc7370842e0709cd9af3d29b4b0b 2013-04-25 14:25:57  60000.00\n",
       "2657225  8f70fc7370842e0709cd9af3d29b4b0b 2013-04-29 00:59:49    473.46\n",
       "2657226  8f70fc7370842e0709cd9af3d29b4b0b 2013-04-30 13:34:16   4728.69\n",
       "2657227  8f70fc7370842e0709cd9af3d29b4b0b 2013-05-05 13:40:05    197.21\n",
       "2657228  8f70fc7370842e0709cd9af3d29b4b0b 2013-05-08 12:30:34   5000.00\n",
       "2657229  8f70fc7370842e0709cd9af3d29b4b0b 2013-05-10 21:24:38   1279.47\n",
       "2657230  8f70fc7370842e0709cd9af3d29b4b0b 2013-05-12 02:56:13    507.58\n",
       "2657231  8f70fc7370842e0709cd9af3d29b4b0b 2013-05-12 19:39:53    223.59\n",
       "2657232  8f70fc7370842e0709cd9af3d29b4b0b 2013-05-12 19:39:53    930.45\n",
       "2657233  8f70fc7370842e0709cd9af3d29b4b0b 2013-05-15 00:45:25    559.62\n",
       "2657234  8f70fc7370842e0709cd9af3d29b4b0b 2013-05-18 09:25:25    997.56\n",
       "2657235  8f70fc7370842e0709cd9af3d29b4b0b 2013-05-18 09:30:44    156.11\n",
       "2657236  8f70fc7370842e0709cd9af3d29b4b0b 2013-05-18 09:30:44    193.64\n",
       "2657237  8f70fc7370842e0709cd9af3d29b4b0b 2013-05-20 07:39:17   1000.00\n",
       "2657238  8f70fc7370842e0709cd9af3d29b4b0b 2013-05-24 15:30:05    259.49\n",
       "2657239  8f70fc7370842e0709cd9af3d29b4b0b 2013-05-27 18:13:32    858.72\n",
       "2657240  8f70fc7370842e0709cd9af3d29b4b0b 2013-05-30 15:30:02    374.20\n",
       "...                                   ...                 ...       ...\n",
       "2657404  8f70fc7370842e0709cd9af3d29b4b0b 2015-03-07 18:16:42   1222.13\n",
       "2657405  8f70fc7370842e0709cd9af3d29b4b0b 2015-03-07 18:16:42    629.09\n",
       "2657406  8f70fc7370842e0709cd9af3d29b4b0b 2015-03-20 23:03:02    866.26\n",
       "2657407  8f70fc7370842e0709cd9af3d29b4b0b 2015-03-21 01:55:14    304.62\n",
       "2657408  8f70fc7370842e0709cd9af3d29b4b0b 2015-03-29 17:50:31    924.08\n",
       "2657409  8f70fc7370842e0709cd9af3d29b4b0b 2015-06-15 23:42:28    287.80\n",
       "2657410  8f70fc7370842e0709cd9af3d29b4b0b 2015-06-15 23:42:28    323.04\n",
       "2657411  8f70fc7370842e0709cd9af3d29b4b0b 2015-06-15 23:42:28    437.08\n",
       "2657412  8f70fc7370842e0709cd9af3d29b4b0b 2015-06-15 23:42:29    280.59\n",
       "2657413  8f70fc7370842e0709cd9af3d29b4b0b 2015-06-15 23:42:29    291.65\n",
       "2657414  8f70fc7370842e0709cd9af3d29b4b0b 2015-06-15 23:42:29    403.67\n",
       "2657415  8f70fc7370842e0709cd9af3d29b4b0b 2015-06-17 09:27:04    417.94\n",
       "2657416  8f70fc7370842e0709cd9af3d29b4b0b 2015-06-17 09:27:05   1122.62\n",
       "2657417  8f70fc7370842e0709cd9af3d29b4b0b 2015-06-17 09:27:05    252.72\n",
       "2657418  8f70fc7370842e0709cd9af3d29b4b0b 2015-06-17 19:55:13   1025.28\n",
       "2657419  8f70fc7370842e0709cd9af3d29b4b0b 2015-06-17 19:55:13   2179.45\n",
       "2657420  8f70fc7370842e0709cd9af3d29b4b0b 2015-06-18 23:14:36   1866.72\n",
       "2657421  8f70fc7370842e0709cd9af3d29b4b0b 2015-06-21 13:43:33    985.25\n",
       "2657422  8f70fc7370842e0709cd9af3d29b4b0b 2015-06-21 13:52:04   1776.46\n",
       "2657423  8f70fc7370842e0709cd9af3d29b4b0b 2015-06-21 13:52:05    988.35\n",
       "2657424  8f70fc7370842e0709cd9af3d29b4b0b 2015-07-20 04:17:04    500.00\n",
       "2657425  8f70fc7370842e0709cd9af3d29b4b0b 2015-08-17 14:32:37    464.32\n",
       "2657426  8f70fc7370842e0709cd9af3d29b4b0b 2015-08-17 14:32:38    129.97\n",
       "2657427  8f70fc7370842e0709cd9af3d29b4b0b 2015-08-17 15:47:29    217.69\n",
       "2657428  8f70fc7370842e0709cd9af3d29b4b0b 2015-08-17 15:47:29    365.44\n",
       "2657429  8f70fc7370842e0709cd9af3d29b4b0b 2015-10-27 00:42:52    306.12\n",
       "2657430  8f70fc7370842e0709cd9af3d29b4b0b 2015-10-27 00:42:52     78.98\n",
       "2657431  8f70fc7370842e0709cd9af3d29b4b0b 2016-01-23 21:40:02    250.00\n",
       "2657432  8f70fc7370842e0709cd9af3d29b4b0b 2016-03-11 02:55:56     30.94\n",
       "2657433  8f70fc7370842e0709cd9af3d29b4b0b 2016-03-11 02:59:08   1004.32\n",
       "\n",
       "[223 rows x 3 columns]"
      ]
     },
     "execution_count": 102,
     "metadata": {},
     "output_type": "execute_result"
    }
   ],
   "source": [
    "high = file[file.id == '8f70fc7370842e0709cd9af3d29b4b0b']\n",
    "high"
   ]
  },
  {
   "cell_type": "code",
   "execution_count": 103,
   "metadata": {},
   "outputs": [],
   "source": [
    "high.to_csv('./Data/Highballer.csv')"
   ]
  },
  {
   "cell_type": "code",
   "execution_count": 104,
   "metadata": {},
   "outputs": [
    {
     "data": {
      "text/html": [
       "<div>\n",
       "<style scoped>\n",
       "    .dataframe tbody tr th:only-of-type {\n",
       "        vertical-align: middle;\n",
       "    }\n",
       "\n",
       "    .dataframe tbody tr th {\n",
       "        vertical-align: top;\n",
       "    }\n",
       "\n",
       "    .dataframe thead th {\n",
       "        text-align: right;\n",
       "    }\n",
       "</style>\n",
       "<table border=\"1\" class=\"dataframe\">\n",
       "  <thead>\n",
       "    <tr style=\"text-align: right;\">\n",
       "      <th></th>\n",
       "      <th>amount</th>\n",
       "    </tr>\n",
       "  </thead>\n",
       "  <tbody>\n",
       "    <tr>\n",
       "      <th>count</th>\n",
       "      <td>4.687884e+06</td>\n",
       "    </tr>\n",
       "    <tr>\n",
       "      <th>mean</th>\n",
       "      <td>6.066879e+01</td>\n",
       "    </tr>\n",
       "    <tr>\n",
       "      <th>std</th>\n",
       "      <td>1.668996e+02</td>\n",
       "    </tr>\n",
       "    <tr>\n",
       "      <th>min</th>\n",
       "      <td>1.000000e-02</td>\n",
       "    </tr>\n",
       "    <tr>\n",
       "      <th>25%</th>\n",
       "      <td>1.482000e+01</td>\n",
       "    </tr>\n",
       "    <tr>\n",
       "      <th>50%</th>\n",
       "      <td>2.500000e+01</td>\n",
       "    </tr>\n",
       "    <tr>\n",
       "      <th>75%</th>\n",
       "      <td>5.000000e+01</td>\n",
       "    </tr>\n",
       "    <tr>\n",
       "      <th>max</th>\n",
       "      <td>6.000000e+04</td>\n",
       "    </tr>\n",
       "  </tbody>\n",
       "</table>\n",
       "</div>"
      ],
      "text/plain": [
       "             amount\n",
       "count  4.687884e+06\n",
       "mean   6.066879e+01\n",
       "std    1.668996e+02\n",
       "min    1.000000e-02\n",
       "25%    1.482000e+01\n",
       "50%    2.500000e+01\n",
       "75%    5.000000e+01\n",
       "max    6.000000e+04"
      ]
     },
     "execution_count": 104,
     "metadata": {},
     "output_type": "execute_result"
    }
   ],
   "source": [
    "file.describe()"
   ]
  },
  {
   "cell_type": "code",
   "execution_count": 105,
   "metadata": {},
   "outputs": [
    {
     "data": {
      "text/plain": [
       "count    4.687884e+06\n",
       "mean     6.066879e+01\n",
       "std      1.668996e+02\n",
       "min      1.000000e-02\n",
       "25%      1.482000e+01\n",
       "50%      2.500000e+01\n",
       "75%      5.000000e+01\n",
       "max      6.000000e+04\n",
       "Name: amount, dtype: float64"
      ]
     },
     "execution_count": 105,
     "metadata": {},
     "output_type": "execute_result"
    }
   ],
   "source": [
    "file['amount'].describe()"
   ]
  },
  {
   "cell_type": "markdown",
   "metadata": {},
   "source": [
    "# Average Donor Amount"
   ]
  },
  {
   "cell_type": "code",
   "execution_count": 107,
   "metadata": {},
   "outputs": [
    {
     "data": {
      "text/plain": [
       "60.66878857923414"
      ]
     },
     "execution_count": 107,
     "metadata": {},
     "output_type": "execute_result"
    }
   ],
   "source": [
    "file['amount'].mean()"
   ]
  },
  {
   "cell_type": "code",
   "execution_count": null,
   "metadata": {},
   "outputs": [],
   "source": []
  },
  {
   "cell_type": "code",
   "execution_count": null,
   "metadata": {},
   "outputs": [],
   "source": []
  },
  {
   "cell_type": "code",
   "execution_count": null,
   "metadata": {},
   "outputs": [],
   "source": []
  },
  {
   "cell_type": "code",
   "execution_count": 118,
   "metadata": {},
   "outputs": [
    {
     "name": "stdout",
     "output_type": "stream",
     "text": [
      "66103.38\n"
     ]
    }
   ],
   "source": [
    "high = file[file.id == '46bef03dfe2742079289cd67a26a8d27']\n",
    "print(high['amount'].sum())"
   ]
  },
  {
   "cell_type": "code",
   "execution_count": 119,
   "metadata": {},
   "outputs": [
    {
     "name": "stdout",
     "output_type": "stream",
     "text": [
      "25000.0\n"
     ]
    }
   ],
   "source": [
    "high = file[file.id == 'b51a1b79ce091021e909fde33c5e5810']\n",
    "print(high['amount'].sum())"
   ]
  },
  {
   "cell_type": "code",
   "execution_count": 120,
   "metadata": {},
   "outputs": [
    {
     "name": "stdout",
     "output_type": "stream",
     "text": [
      "23800.000000000004\n"
     ]
    }
   ],
   "source": [
    "high = file[file.id == '5aae045f65ce626b6c56b1d1f974fbf1']\n",
    "print(high['amount'].sum())"
   ]
  },
  {
   "cell_type": "code",
   "execution_count": 121,
   "metadata": {},
   "outputs": [
    {
     "name": "stdout",
     "output_type": "stream",
     "text": [
      "21295.72\n"
     ]
    }
   ],
   "source": [
    "high = file[file.id == '9a79dcb3a980763adeaa274156d5aa99']\n",
    "print(high['amount'].sum())"
   ]
  },
  {
   "cell_type": "code",
   "execution_count": 127,
   "metadata": {},
   "outputs": [
    {
     "name": "stdout",
     "output_type": "stream",
     "text": [
      "44004.09\n"
     ]
    }
   ],
   "source": [
    "high = file[file.id == '7779c0b3af936b7f8f6953f06882c094']\n",
    "print(high['amount'].sum())"
   ]
  },
  {
   "cell_type": "code",
   "execution_count": 125,
   "metadata": {},
   "outputs": [
    {
     "name": "stdout",
     "output_type": "stream",
     "text": [
      "1243529.69\n"
     ]
    }
   ],
   "source": [
    "high = file[file.id == '2144d56b1947ebb26a19e7f1d07c970a']\n",
    "print(high['amount'].sum())"
   ]
  },
  {
   "cell_type": "code",
   "execution_count": null,
   "metadata": {},
   "outputs": [],
   "source": [
    "high = file[file.id == ' 9ed16d0f5679c71875f7f82abf04c97c\n",
    "  ']\n",
    "print(high['amount'].sum())"
   ]
  },
  {
   "cell_type": "code",
   "execution_count": null,
   "metadata": {},
   "outputs": [],
   "source": [
    "high = file[file.id == ' 0c796f4db2c7adc93db6969153616cdc\n",
    "  ']\n",
    "print(high['amount'].sum())"
   ]
  },
  {
   "cell_type": "code",
   "execution_count": 128,
   "metadata": {},
   "outputs": [
    {
     "name": "stdout",
     "output_type": "stream",
     "text": [
      "220279.59999999998\n"
     ]
    }
   ],
   "source": [
    "high = file[file.id == '8f70fc7370842e0709cd9af3d29b4b0b']\n",
    "print(high['amount'].sum())"
   ]
  },
  {
   "cell_type": "code",
   "execution_count": 129,
   "metadata": {},
   "outputs": [
    {
     "name": "stdout",
     "output_type": "stream",
     "text": [
      "30999.84\n"
     ]
    }
   ],
   "source": [
    "high = file[file.id == '9ed16d0f5679c71875f7f82abf04c97c']\n",
    "print(high['amount'].sum())"
   ]
  },
  {
   "cell_type": "code",
   "execution_count": 130,
   "metadata": {},
   "outputs": [
    {
     "name": "stdout",
     "output_type": "stream",
     "text": [
      "61916.259999999995\n"
     ]
    }
   ],
   "source": [
    "high = file[file.id == '0c796f4db2c7adc93db6969153616cdc']\n",
    "print(high['amount'].sum())"
   ]
  },
  {
   "cell_type": "code",
   "execution_count": 131,
   "metadata": {},
   "outputs": [
    {
     "name": "stdout",
     "output_type": "stream",
     "text": [
      "19495.31\n"
     ]
    }
   ],
   "source": [
    "high = file[file.id == 'f1d16f7117f774dcabd2157858081b27']\n",
    "print(high['amount'].sum())"
   ]
  },
  {
   "cell_type": "code",
   "execution_count": 132,
   "metadata": {},
   "outputs": [
    {
     "name": "stdout",
     "output_type": "stream",
     "text": [
      "17778.51\n"
     ]
    }
   ],
   "source": [
    "high = file[file.id == '34693cc3c55e19494f4c69fe335eca17']\n",
    "print(high['amount'].sum())"
   ]
  },
  {
   "cell_type": "code",
   "execution_count": 133,
   "metadata": {},
   "outputs": [
    {
     "name": "stdout",
     "output_type": "stream",
     "text": [
      "29838.56\n"
     ]
    }
   ],
   "source": [
    "high = file[file.id == 'c359757201cde60df7c003a1b365cd5e']\n",
    "print(high['amount'].sum())"
   ]
  },
  {
   "cell_type": "code",
   "execution_count": 134,
   "metadata": {},
   "outputs": [
    {
     "name": "stdout",
     "output_type": "stream",
     "text": [
      "26981.78\n"
     ]
    }
   ],
   "source": [
    "high = file[file.id == '6c338eb8b8d6fde2f0d4d3b5277ed4c9']\n",
    "print(high['amount'].sum())"
   ]
  },
  {
   "cell_type": "code",
   "execution_count": 136,
   "metadata": {},
   "outputs": [
    {
     "name": "stdout",
     "output_type": "stream",
     "text": [
      "100383.2\n"
     ]
    }
   ],
   "source": [
    "high = file[file.id == '2d5f989570f391c688b0823967f02689']\n",
    "print(high['amount'].sum())"
   ]
  },
  {
   "cell_type": "code",
   "execution_count": 137,
   "metadata": {},
   "outputs": [
    {
     "name": "stdout",
     "output_type": "stream",
     "text": [
      "100383.2\n"
     ]
    }
   ],
   "source": [
    "high = file[file.id == '2d5f989570f391c688b0823967f02689']\n",
    "print(high['amount'].sum())"
   ]
  },
  {
   "cell_type": "code",
   "execution_count": 138,
   "metadata": {},
   "outputs": [
    {
     "name": "stdout",
     "output_type": "stream",
     "text": [
      "15600.0\n"
     ]
    }
   ],
   "source": [
    "high = file[file.id == 'd4e6cb5bafcf403935a56a5e562d6dce']\n",
    "print(high['amount'].sum())"
   ]
  },
  {
   "cell_type": "code",
   "execution_count": 139,
   "metadata": {},
   "outputs": [
    {
     "name": "stdout",
     "output_type": "stream",
     "text": [
      "16507.3\n"
     ]
    }
   ],
   "source": [
    "high = file[file.id == '328eddaccd2f15ab18441d39102a2680']\n",
    "print(high['amount'].sum())"
   ]
  },
  {
   "cell_type": "code",
   "execution_count": 150,
   "metadata": {},
   "outputs": [
    {
     "name": "stdout",
     "output_type": "stream",
     "text": [
      "2144d56b1947ebb26a19e7f1d07c970a    2152\n",
      "Name: id, dtype: int64\n"
     ]
    }
   ],
   "source": [
    "high = file[file.id == '2144d56b1947ebb26a19e7f1d07c970a']\n",
    "print(high.id.value_counts())"
   ]
  },
  {
   "cell_type": "code",
   "execution_count": null,
   "metadata": {},
   "outputs": [],
   "source": []
  }
 ],
 "metadata": {
  "kernelspec": {
   "display_name": "Python 3",
   "language": "python",
   "name": "python3"
  },
  "language_info": {
   "codemirror_mode": {
    "name": "ipython",
    "version": 3
   },
   "file_extension": ".py",
   "mimetype": "text/x-python",
   "name": "python",
   "nbconvert_exporter": "python",
   "pygments_lexer": "ipython3",
   "version": "3.7.3"
  }
 },
 "nbformat": 4,
 "nbformat_minor": 2
}
